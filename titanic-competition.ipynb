{
 "cells": [
  {
   "cell_type": "code",
   "execution_count": 1,
   "id": "ced052f1",
   "metadata": {
    "_cell_guid": "b1076dfc-b9ad-4769-8c92-a6c4dae69d19",
    "_uuid": "8f2839f25d086af736a60e9eeb907d3b93b6e0e5",
    "execution": {
     "iopub.execute_input": "2022-07-23T14:55:22.227373Z",
     "iopub.status.busy": "2022-07-23T14:55:22.226305Z",
     "iopub.status.idle": "2022-07-23T14:55:24.109687Z",
     "shell.execute_reply": "2022-07-23T14:55:24.108512Z"
    },
    "papermill": {
     "duration": 1.895462,
     "end_time": "2022-07-23T14:55:24.112740",
     "exception": false,
     "start_time": "2022-07-23T14:55:22.217278",
     "status": "completed"
    },
    "tags": []
   },
   "outputs": [
    {
     "name": "stdout",
     "output_type": "stream",
     "text": [
      "/kaggle/input/titanic/train.csv\n",
      "/kaggle/input/titanic/test.csv\n",
      "/kaggle/input/titanic/gender_submission.csv\n"
     ]
    }
   ],
   "source": [
    "# This Python 3 environment comes with many helpful analytics libraries installed\n",
    "# It is defined by the kaggle/python Docker image: https://github.com/kaggle/docker-python\n",
    "# For example, here's several helpful packages to load\n",
    "\n",
    "import numpy as np # linear algebra\n",
    "import pandas as pd # data processing, CSV file I/O (e.g. pd.read_csv)\n",
    "from sklearn.model_selection import KFold\n",
    "from sklearn.metrics import accuracy_score\n",
    "from sklearn.model_selection import train_test_split\n",
    "from sklearn.compose import ColumnTransformer\n",
    "from sklearn.ensemble import GradientBoostingClassifier, RandomForestClassifier\n",
    "from sklearn.linear_model import Perceptron\n",
    "from catboost import CatBoostClassifier\n",
    "from sklearn.impute import SimpleImputer\n",
    "from sklearn.model_selection import cross_val_score, GridSearchCV\n",
    "from sklearn.pipeline import Pipeline\n",
    "from sklearn.preprocessing import LabelBinarizer, OneHotEncoder, StandardScaler\n",
    "from sklearn import set_config\n",
    "# Input data files are available in the read-only \"../input/\" directory\n",
    "# For example, running this (by clicking run or pressing Shift+Enter) will list all files under the input directory\n",
    "import matplotlib.pyplot as plt \n",
    "import seaborn as sns\n",
    "import os\n",
    "for dirname, _, filenames in os.walk('/kaggle/input'):\n",
    "    for filename in filenames:\n",
    "        print(os.path.join(dirname, filename))\n",
    "\n",
    "# You can write up to 20GB to the current directory (/kaggle/working/) that gets preserved as output when you create a version using \"Save & Run All\" \n",
    "# You can also write temporary files to /kaggle/temp/, but they won't be saved outside of the current session"
   ]
  },
  {
   "cell_type": "markdown",
   "id": "c7f7d3fa",
   "metadata": {
    "papermill": {
     "duration": 0.005533,
     "end_time": "2022-07-23T14:55:24.125138",
     "exception": false,
     "start_time": "2022-07-23T14:55:24.119605",
     "status": "completed"
    },
    "tags": []
   },
   "source": [
    "This function allows us to create a submission easily"
   ]
  },
  {
   "cell_type": "code",
   "execution_count": 2,
   "id": "ab4d6a43",
   "metadata": {
    "execution": {
     "iopub.execute_input": "2022-07-23T14:55:24.138700Z",
     "iopub.status.busy": "2022-07-23T14:55:24.138315Z",
     "iopub.status.idle": "2022-07-23T14:55:24.144165Z",
     "shell.execute_reply": "2022-07-23T14:55:24.143435Z"
    },
    "papermill": {
     "duration": 0.015089,
     "end_time": "2022-07-23T14:55:24.145901",
     "exception": false,
     "start_time": "2022-07-23T14:55:24.130812",
     "status": "completed"
    },
    "tags": []
   },
   "outputs": [],
   "source": [
    "def make_submission():\n",
    "    submission = titanic_test.copy()\n",
    "    #display(titanic_test)\n",
    "    Y_test_pred = model.predict(X_test)\n",
    "    display(X_test)\n",
    "    submission['Survived'] = Y_test_pred\n",
    "    submission.drop(submission.iloc[:, 1:-1], inplace=True, axis=1)\n",
    "    submission = submission.set_index('PassengerId')\n",
    "    display(submission)\n",
    "    submission.to_csv('/kaggle/working/submissionZ.csv')"
   ]
  },
  {
   "cell_type": "markdown",
   "id": "a265d51c",
   "metadata": {
    "papermill": {
     "duration": 0.005485,
     "end_time": "2022-07-23T14:55:24.157232",
     "exception": false,
     "start_time": "2022-07-23T14:55:24.151747",
     "status": "completed"
    },
    "tags": []
   },
   "source": [
    "# Titanic - Machine Learning from Disaster"
   ]
  },
  {
   "cell_type": "markdown",
   "id": "fb018392",
   "metadata": {
    "papermill": {
     "duration": 0.005789,
     "end_time": "2022-07-23T14:55:24.168789",
     "exception": false,
     "start_time": "2022-07-23T14:55:24.163000",
     "status": "completed"
    },
    "tags": []
   },
   "source": [
    "Is it possible to predict whether someone will survive a given disaster? That is the question we'll try to answer.\n",
    "\n",
    "Here, we'll be using the example of the Titanic and its passengers. "
   ]
  },
  {
   "cell_type": "markdown",
   "id": "314f99e9",
   "metadata": {
    "papermill": {
     "duration": 0.005506,
     "end_time": "2022-07-23T14:55:24.180037",
     "exception": false,
     "start_time": "2022-07-23T14:55:24.174531",
     "status": "completed"
    },
    "tags": []
   },
   "source": [
    "## Let's load the data"
   ]
  },
  {
   "cell_type": "markdown",
   "id": "b4ddb45b",
   "metadata": {
    "papermill": {
     "duration": 0.005493,
     "end_time": "2022-07-23T14:55:24.191435",
     "exception": false,
     "start_time": "2022-07-23T14:55:24.185942",
     "status": "completed"
    },
    "tags": []
   },
   "source": [
    "# Explanations for the columns of our dataset:\n",
    "\n",
    "**Variable**\tDefinition\tKey\n",
    "**survival**\tSurvival\t0 = No, 1 = Yes\n",
    "**pclass**\tTicket class\t1 = 1st, 2 = 2nd, 3 = 3rd\n",
    "**sex**\tSex\t\n",
    "**Age**\tAge in years\t\n",
    "**sibsp**\t# of siblings / spouses aboard the Titanic\t\n",
    "**parch**\t# of parents / children aboard the Titanic\t\n",
    "**ticket**\tTicket number\t\n",
    "**fare**\tPassenger fare\t\n",
    "**cabin**\tCabin number\t\n",
    "**embarked**\tPort of Embarkation\tC = Cherbourg, Q = Queenstown, S = Southampton\n",
    "\n",
    "**pclass**: A proxy for socio-economic status (SES)\n",
    "1st = Upper\n",
    "2nd = Middle\n",
    "3rd = Lower\n",
    "\n",
    "**age**: Age is fractional if less than 1. If the age is estimated, is it in the form of xx.5\n",
    "\n",
    "**sibsp**: The dataset defines family relations in this way...\n",
    "**Sibling** = brother, sister, stepbrother, stepsister\n",
    "**Spouse** = husband, wife (mistresses and fiancés were ignored)\n",
    "\n",
    "**parch**: The dataset defines family relations in this way...\n",
    "**Parent** = mother, father\n",
    "**Child** = daughter, son, stepdaughter, stepson\n",
    "Some children travelled only with a nanny, therefore parch=0 for them."
   ]
  },
  {
   "cell_type": "markdown",
   "id": "87571022",
   "metadata": {
    "papermill": {
     "duration": 0.005546,
     "end_time": "2022-07-23T14:55:24.202791",
     "exception": false,
     "start_time": "2022-07-23T14:55:24.197245",
     "status": "completed"
    },
    "tags": []
   },
   "source": [
    "# Data Exploration"
   ]
  },
  {
   "cell_type": "code",
   "execution_count": 3,
   "id": "48dcf157",
   "metadata": {
    "execution": {
     "iopub.execute_input": "2022-07-23T14:55:24.216512Z",
     "iopub.status.busy": "2022-07-23T14:55:24.215396Z",
     "iopub.status.idle": "2022-07-23T14:55:24.268884Z",
     "shell.execute_reply": "2022-07-23T14:55:24.267745Z"
    },
    "papermill": {
     "duration": 0.063082,
     "end_time": "2022-07-23T14:55:24.271646",
     "exception": false,
     "start_time": "2022-07-23T14:55:24.208564",
     "status": "completed"
    },
    "tags": []
   },
   "outputs": [
    {
     "name": "stdout",
     "output_type": "stream",
     "text": [
      "(891, 12)\n"
     ]
    },
    {
     "data": {
      "text/html": [
       "<div>\n",
       "<style scoped>\n",
       "    .dataframe tbody tr th:only-of-type {\n",
       "        vertical-align: middle;\n",
       "    }\n",
       "\n",
       "    .dataframe tbody tr th {\n",
       "        vertical-align: top;\n",
       "    }\n",
       "\n",
       "    .dataframe thead th {\n",
       "        text-align: right;\n",
       "    }\n",
       "</style>\n",
       "<table border=\"1\" class=\"dataframe\">\n",
       "  <thead>\n",
       "    <tr style=\"text-align: right;\">\n",
       "      <th></th>\n",
       "      <th>PassengerId</th>\n",
       "      <th>Survived</th>\n",
       "      <th>Pclass</th>\n",
       "      <th>Name</th>\n",
       "      <th>Sex</th>\n",
       "      <th>Age</th>\n",
       "      <th>SibSp</th>\n",
       "      <th>Parch</th>\n",
       "      <th>Ticket</th>\n",
       "      <th>Fare</th>\n",
       "      <th>Cabin</th>\n",
       "      <th>Embarked</th>\n",
       "    </tr>\n",
       "  </thead>\n",
       "  <tbody>\n",
       "    <tr>\n",
       "      <th>0</th>\n",
       "      <td>1</td>\n",
       "      <td>0</td>\n",
       "      <td>3</td>\n",
       "      <td>Braund, Mr. Owen Harris</td>\n",
       "      <td>male</td>\n",
       "      <td>22.0</td>\n",
       "      <td>1</td>\n",
       "      <td>0</td>\n",
       "      <td>A/5 21171</td>\n",
       "      <td>7.2500</td>\n",
       "      <td>NaN</td>\n",
       "      <td>S</td>\n",
       "    </tr>\n",
       "    <tr>\n",
       "      <th>1</th>\n",
       "      <td>2</td>\n",
       "      <td>1</td>\n",
       "      <td>1</td>\n",
       "      <td>Cumings, Mrs. John Bradley (Florence Briggs Th...</td>\n",
       "      <td>female</td>\n",
       "      <td>38.0</td>\n",
       "      <td>1</td>\n",
       "      <td>0</td>\n",
       "      <td>PC 17599</td>\n",
       "      <td>71.2833</td>\n",
       "      <td>C85</td>\n",
       "      <td>C</td>\n",
       "    </tr>\n",
       "    <tr>\n",
       "      <th>2</th>\n",
       "      <td>3</td>\n",
       "      <td>1</td>\n",
       "      <td>3</td>\n",
       "      <td>Heikkinen, Miss. Laina</td>\n",
       "      <td>female</td>\n",
       "      <td>26.0</td>\n",
       "      <td>0</td>\n",
       "      <td>0</td>\n",
       "      <td>STON/O2. 3101282</td>\n",
       "      <td>7.9250</td>\n",
       "      <td>NaN</td>\n",
       "      <td>S</td>\n",
       "    </tr>\n",
       "    <tr>\n",
       "      <th>3</th>\n",
       "      <td>4</td>\n",
       "      <td>1</td>\n",
       "      <td>1</td>\n",
       "      <td>Futrelle, Mrs. Jacques Heath (Lily May Peel)</td>\n",
       "      <td>female</td>\n",
       "      <td>35.0</td>\n",
       "      <td>1</td>\n",
       "      <td>0</td>\n",
       "      <td>113803</td>\n",
       "      <td>53.1000</td>\n",
       "      <td>C123</td>\n",
       "      <td>S</td>\n",
       "    </tr>\n",
       "    <tr>\n",
       "      <th>4</th>\n",
       "      <td>5</td>\n",
       "      <td>0</td>\n",
       "      <td>3</td>\n",
       "      <td>Allen, Mr. William Henry</td>\n",
       "      <td>male</td>\n",
       "      <td>35.0</td>\n",
       "      <td>0</td>\n",
       "      <td>0</td>\n",
       "      <td>373450</td>\n",
       "      <td>8.0500</td>\n",
       "      <td>NaN</td>\n",
       "      <td>S</td>\n",
       "    </tr>\n",
       "    <tr>\n",
       "      <th>...</th>\n",
       "      <td>...</td>\n",
       "      <td>...</td>\n",
       "      <td>...</td>\n",
       "      <td>...</td>\n",
       "      <td>...</td>\n",
       "      <td>...</td>\n",
       "      <td>...</td>\n",
       "      <td>...</td>\n",
       "      <td>...</td>\n",
       "      <td>...</td>\n",
       "      <td>...</td>\n",
       "      <td>...</td>\n",
       "    </tr>\n",
       "    <tr>\n",
       "      <th>886</th>\n",
       "      <td>887</td>\n",
       "      <td>0</td>\n",
       "      <td>2</td>\n",
       "      <td>Montvila, Rev. Juozas</td>\n",
       "      <td>male</td>\n",
       "      <td>27.0</td>\n",
       "      <td>0</td>\n",
       "      <td>0</td>\n",
       "      <td>211536</td>\n",
       "      <td>13.0000</td>\n",
       "      <td>NaN</td>\n",
       "      <td>S</td>\n",
       "    </tr>\n",
       "    <tr>\n",
       "      <th>887</th>\n",
       "      <td>888</td>\n",
       "      <td>1</td>\n",
       "      <td>1</td>\n",
       "      <td>Graham, Miss. Margaret Edith</td>\n",
       "      <td>female</td>\n",
       "      <td>19.0</td>\n",
       "      <td>0</td>\n",
       "      <td>0</td>\n",
       "      <td>112053</td>\n",
       "      <td>30.0000</td>\n",
       "      <td>B42</td>\n",
       "      <td>S</td>\n",
       "    </tr>\n",
       "    <tr>\n",
       "      <th>888</th>\n",
       "      <td>889</td>\n",
       "      <td>0</td>\n",
       "      <td>3</td>\n",
       "      <td>Johnston, Miss. Catherine Helen \"Carrie\"</td>\n",
       "      <td>female</td>\n",
       "      <td>NaN</td>\n",
       "      <td>1</td>\n",
       "      <td>2</td>\n",
       "      <td>W./C. 6607</td>\n",
       "      <td>23.4500</td>\n",
       "      <td>NaN</td>\n",
       "      <td>S</td>\n",
       "    </tr>\n",
       "    <tr>\n",
       "      <th>889</th>\n",
       "      <td>890</td>\n",
       "      <td>1</td>\n",
       "      <td>1</td>\n",
       "      <td>Behr, Mr. Karl Howell</td>\n",
       "      <td>male</td>\n",
       "      <td>26.0</td>\n",
       "      <td>0</td>\n",
       "      <td>0</td>\n",
       "      <td>111369</td>\n",
       "      <td>30.0000</td>\n",
       "      <td>C148</td>\n",
       "      <td>C</td>\n",
       "    </tr>\n",
       "    <tr>\n",
       "      <th>890</th>\n",
       "      <td>891</td>\n",
       "      <td>0</td>\n",
       "      <td>3</td>\n",
       "      <td>Dooley, Mr. Patrick</td>\n",
       "      <td>male</td>\n",
       "      <td>32.0</td>\n",
       "      <td>0</td>\n",
       "      <td>0</td>\n",
       "      <td>370376</td>\n",
       "      <td>7.7500</td>\n",
       "      <td>NaN</td>\n",
       "      <td>Q</td>\n",
       "    </tr>\n",
       "  </tbody>\n",
       "</table>\n",
       "<p>891 rows × 12 columns</p>\n",
       "</div>"
      ],
      "text/plain": [
       "     PassengerId  Survived  Pclass  \\\n",
       "0              1         0       3   \n",
       "1              2         1       1   \n",
       "2              3         1       3   \n",
       "3              4         1       1   \n",
       "4              5         0       3   \n",
       "..           ...       ...     ...   \n",
       "886          887         0       2   \n",
       "887          888         1       1   \n",
       "888          889         0       3   \n",
       "889          890         1       1   \n",
       "890          891         0       3   \n",
       "\n",
       "                                                  Name     Sex   Age  SibSp  \\\n",
       "0                              Braund, Mr. Owen Harris    male  22.0      1   \n",
       "1    Cumings, Mrs. John Bradley (Florence Briggs Th...  female  38.0      1   \n",
       "2                               Heikkinen, Miss. Laina  female  26.0      0   \n",
       "3         Futrelle, Mrs. Jacques Heath (Lily May Peel)  female  35.0      1   \n",
       "4                             Allen, Mr. William Henry    male  35.0      0   \n",
       "..                                                 ...     ...   ...    ...   \n",
       "886                              Montvila, Rev. Juozas    male  27.0      0   \n",
       "887                       Graham, Miss. Margaret Edith  female  19.0      0   \n",
       "888           Johnston, Miss. Catherine Helen \"Carrie\"  female   NaN      1   \n",
       "889                              Behr, Mr. Karl Howell    male  26.0      0   \n",
       "890                                Dooley, Mr. Patrick    male  32.0      0   \n",
       "\n",
       "     Parch            Ticket     Fare Cabin Embarked  \n",
       "0        0         A/5 21171   7.2500   NaN        S  \n",
       "1        0          PC 17599  71.2833   C85        C  \n",
       "2        0  STON/O2. 3101282   7.9250   NaN        S  \n",
       "3        0            113803  53.1000  C123        S  \n",
       "4        0            373450   8.0500   NaN        S  \n",
       "..     ...               ...      ...   ...      ...  \n",
       "886      0            211536  13.0000   NaN        S  \n",
       "887      0            112053  30.0000   B42        S  \n",
       "888      2        W./C. 6607  23.4500   NaN        S  \n",
       "889      0            111369  30.0000  C148        C  \n",
       "890      0            370376   7.7500   NaN        Q  \n",
       "\n",
       "[891 rows x 12 columns]"
      ]
     },
     "metadata": {},
     "output_type": "display_data"
    }
   ],
   "source": [
    "titanic_train = pd.read_csv('/kaggle/input/titanic/train.csv')\n",
    "titanic_test = pd.read_csv('/kaggle/input/titanic/test.csv')\n",
    "print(titanic_train.shape)\n",
    "display(titanic_train)\n"
   ]
  },
  {
   "cell_type": "markdown",
   "id": "e5db08cf",
   "metadata": {
    "papermill": {
     "duration": 0.006322,
     "end_time": "2022-07-23T14:55:24.284304",
     "exception": false,
     "start_time": "2022-07-23T14:55:24.277982",
     "status": "completed"
    },
    "tags": []
   },
   "source": [
    "We can see that there are 11 features and we are trying to predict the survived column. \n",
    "\n",
    "Some columns like Age and Cabin seem to cointain NaN values which is a problem. to fill values when it is needed.\n",
    "\n",
    "The ticket number doesn't give much information since we already have the fare and the cabin. Thus, we can delete this column.\n",
    "Same goes for the Name column\n",
    "\n",
    "We'll use one-hot vectors for Sex and Embarked \n",
    "\n",
    "\n",
    "\n"
   ]
  },
  {
   "cell_type": "code",
   "execution_count": 4,
   "id": "fde90035",
   "metadata": {
    "execution": {
     "iopub.execute_input": "2022-07-23T14:55:24.298797Z",
     "iopub.status.busy": "2022-07-23T14:55:24.298095Z",
     "iopub.status.idle": "2022-07-23T14:55:24.527090Z",
     "shell.execute_reply": "2022-07-23T14:55:24.526018Z"
    },
    "papermill": {
     "duration": 0.239043,
     "end_time": "2022-07-23T14:55:24.529314",
     "exception": false,
     "start_time": "2022-07-23T14:55:24.290271",
     "status": "completed"
    },
    "tags": []
   },
   "outputs": [
    {
     "data": {
      "text/plain": [
       "Text(0.5, 1.0, 'Survived (binary: yes or no)')"
      ]
     },
     "execution_count": 4,
     "metadata": {},
     "output_type": "execute_result"
    },
    {
     "data": {
      "image/png": "[encoded data removed]",
      "text/plain": [
       "<Figure size 432x432 with 1 Axes>"
      ]
     },
     "metadata": {
      "needs_background": "light"
     },
     "output_type": "display_data"
    }
   ],
   "source": [
    "sns.catplot(x=\"Survived\", kind=\"count\",palette=\"magma\", data=titanic_train, height = 6)\n",
    "plt.title(\"Survived (binary: yes or no)\")"
   ]
  },
  {
   "cell_type": "markdown",
   "id": "48df864f",
   "metadata": {
    "execution": {
     "iopub.execute_input": "2022-07-23T12:33:37.597534Z",
     "iopub.status.busy": "2022-07-23T12:33:37.596969Z",
     "iopub.status.idle": "2022-07-23T12:33:37.606099Z",
     "shell.execute_reply": "2022-07-23T12:33:37.603165Z",
     "shell.execute_reply.started": "2022-07-23T12:33:37.597501Z"
    },
    "papermill": {
     "duration": 0.006346,
     "end_time": "2022-07-23T14:55:24.542262",
     "exception": false,
     "start_time": "2022-07-23T14:55:24.535916",
     "status": "completed"
    },
    "tags": []
   },
   "source": [
    "We can see that not everyone died, almost 300 people survived. Thus the classes aren't very imbalanced."
   ]
  },
  {
   "cell_type": "markdown",
   "id": "3864487d",
   "metadata": {
    "papermill": {
     "duration": 0.006554,
     "end_time": "2022-07-23T14:55:24.555507",
     "exception": false,
     "start_time": "2022-07-23T14:55:24.548953",
     "status": "completed"
    },
    "tags": []
   },
   "source": [
    "# Data Preparation"
   ]
  },
  {
   "cell_type": "markdown",
   "id": "415e74d8",
   "metadata": {
    "papermill": {
     "duration": 0.006009,
     "end_time": "2022-07-23T14:55:24.567727",
     "exception": false,
     "start_time": "2022-07-23T14:55:24.561718",
     "status": "completed"
    },
    "tags": []
   },
   "source": [
    "We will build a pipeline so that we can clean our data easily."
   ]
  },
  {
   "cell_type": "code",
   "execution_count": 5,
   "id": "f6f71dba",
   "metadata": {
    "execution": {
     "iopub.execute_input": "2022-07-23T14:55:24.582278Z",
     "iopub.status.busy": "2022-07-23T14:55:24.581661Z",
     "iopub.status.idle": "2022-07-23T14:55:24.589107Z",
     "shell.execute_reply": "2022-07-23T14:55:24.588137Z"
    },
    "papermill": {
     "duration": 0.017213,
     "end_time": "2022-07-23T14:55:24.591140",
     "exception": false,
     "start_time": "2022-07-23T14:55:24.573927",
     "status": "completed"
    },
    "tags": []
   },
   "outputs": [],
   "source": [
    "#constants\n",
    "features = ['Pclass', 'Name', 'Sex', 'Age', 'SibSp', 'Parch', 'Ticket', 'Fare', 'Cabin', 'Embarked']\n",
    "target = 'Survived'\n",
    "\n",
    "def pipeline(numerical_imputer, numerical_scaler, numerical_features, categorical_imputer, categorical_encoder, categorical_features, estimator):\n",
    "    numerical_transformer = Pipeline(\n",
    "        steps=[\n",
    "            (\"numerical_imputer\", numerical_imputer),\n",
    "            (\"numerical_scaler\", numerical_scaler),\n",
    "        ]\n",
    "    )\n",
    "    categorical_transformer = Pipeline(\n",
    "        steps=[\n",
    "            (\"categorical_imputer\", categorical_imputer),\n",
    "            (\"categorical_encoder\", categorical_encoder),\n",
    "        ]\n",
    "    )\n",
    "    preprocessor = ColumnTransformer(\n",
    "        transformers=[\n",
    "            (\"num\", numerical_transformer, numerical_features),\n",
    "            (\"cat\", categorical_transformer, categorical_features),\n",
    "        ]\n",
    "    )\n",
    "    clf = Pipeline( \n",
    "        steps=[(\"preprocessor\", preprocessor), (\"classifier\", estimator)]\n",
    "    )\n",
    "    return clf"
   ]
  },
  {
   "cell_type": "code",
   "execution_count": 6,
   "id": "cac00c6b",
   "metadata": {
    "execution": {
     "iopub.execute_input": "2022-07-23T14:55:24.605957Z",
     "iopub.status.busy": "2022-07-23T14:55:24.605279Z",
     "iopub.status.idle": "2022-07-23T14:55:24.610944Z",
     "shell.execute_reply": "2022-07-23T14:55:24.610252Z"
    },
    "papermill": {
     "duration": 0.015357,
     "end_time": "2022-07-23T14:55:24.612842",
     "exception": false,
     "start_time": "2022-07-23T14:55:24.597485",
     "status": "completed"
    },
    "tags": []
   },
   "outputs": [],
   "source": [
    "random_state = 0\n",
    "\n",
    "\n",
    "numerical_imputer = SimpleImputer(strategy='mean')\n",
    "numerical_scaler = StandardScaler()\n",
    "numerical_features = ['Age', 'Fare']\n",
    "categorical_imputer = SimpleImputer(strategy='most_frequent')\n",
    "categorical_encoder = OneHotEncoder(handle_unknown='ignore')\n",
    "categorical_features = ['Pclass'\n",
    "            , 'Sex'\t\n",
    "            , 'SibSp'\n",
    "            , 'Parch'\n",
    "            , 'Ticket'\n",
    "            , 'Embarked'\n",
    "           ]\n"
   ]
  },
  {
   "cell_type": "code",
   "execution_count": 7,
   "id": "aa456da7",
   "metadata": {
    "execution": {
     "iopub.execute_input": "2022-07-23T14:55:24.627962Z",
     "iopub.status.busy": "2022-07-23T14:55:24.627064Z",
     "iopub.status.idle": "2022-07-23T14:55:24.634044Z",
     "shell.execute_reply": "2022-07-23T14:55:24.633314Z"
    },
    "papermill": {
     "duration": 0.016785,
     "end_time": "2022-07-23T14:55:24.636026",
     "exception": false,
     "start_time": "2022-07-23T14:55:24.619241",
     "status": "completed"
    },
    "tags": []
   },
   "outputs": [],
   "source": [
    "X_train = titanic_train[numerical_features + categorical_features]\n",
    "X_test = titanic_test[numerical_features + categorical_features]\n",
    "y_train = titanic_train[target]"
   ]
  },
  {
   "cell_type": "code",
   "execution_count": 8,
   "id": "18f665ef",
   "metadata": {
    "execution": {
     "iopub.execute_input": "2022-07-23T14:55:24.650575Z",
     "iopub.status.busy": "2022-07-23T14:55:24.650208Z",
     "iopub.status.idle": "2022-07-23T14:55:24.664913Z",
     "shell.execute_reply": "2022-07-23T14:55:24.663903Z"
    },
    "papermill": {
     "duration": 0.024357,
     "end_time": "2022-07-23T14:55:24.666957",
     "exception": false,
     "start_time": "2022-07-23T14:55:24.642600",
     "status": "completed"
    },
    "tags": []
   },
   "outputs": [
    {
     "data": {
      "text/html": [
       "<div>\n",
       "<style scoped>\n",
       "    .dataframe tbody tr th:only-of-type {\n",
       "        vertical-align: middle;\n",
       "    }\n",
       "\n",
       "    .dataframe tbody tr th {\n",
       "        vertical-align: top;\n",
       "    }\n",
       "\n",
       "    .dataframe thead th {\n",
       "        text-align: right;\n",
       "    }\n",
       "</style>\n",
       "<table border=\"1\" class=\"dataframe\">\n",
       "  <thead>\n",
       "    <tr style=\"text-align: right;\">\n",
       "      <th></th>\n",
       "      <th>Age</th>\n",
       "      <th>Fare</th>\n",
       "      <th>Pclass</th>\n",
       "      <th>Sex</th>\n",
       "      <th>SibSp</th>\n",
       "      <th>Parch</th>\n",
       "      <th>Ticket</th>\n",
       "      <th>Embarked</th>\n",
       "    </tr>\n",
       "  </thead>\n",
       "  <tbody>\n",
       "    <tr>\n",
       "      <th>0</th>\n",
       "      <td>22.0</td>\n",
       "      <td>7.2500</td>\n",
       "      <td>3</td>\n",
       "      <td>male</td>\n",
       "      <td>1</td>\n",
       "      <td>0</td>\n",
       "      <td>A/5 21171</td>\n",
       "      <td>S</td>\n",
       "    </tr>\n",
       "    <tr>\n",
       "      <th>1</th>\n",
       "      <td>38.0</td>\n",
       "      <td>71.2833</td>\n",
       "      <td>1</td>\n",
       "      <td>female</td>\n",
       "      <td>1</td>\n",
       "      <td>0</td>\n",
       "      <td>PC 17599</td>\n",
       "      <td>C</td>\n",
       "    </tr>\n",
       "    <tr>\n",
       "      <th>2</th>\n",
       "      <td>26.0</td>\n",
       "      <td>7.9250</td>\n",
       "      <td>3</td>\n",
       "      <td>female</td>\n",
       "      <td>0</td>\n",
       "      <td>0</td>\n",
       "      <td>STON/O2. 3101282</td>\n",
       "      <td>S</td>\n",
       "    </tr>\n",
       "    <tr>\n",
       "      <th>3</th>\n",
       "      <td>35.0</td>\n",
       "      <td>53.1000</td>\n",
       "      <td>1</td>\n",
       "      <td>female</td>\n",
       "      <td>1</td>\n",
       "      <td>0</td>\n",
       "      <td>113803</td>\n",
       "      <td>S</td>\n",
       "    </tr>\n",
       "    <tr>\n",
       "      <th>4</th>\n",
       "      <td>35.0</td>\n",
       "      <td>8.0500</td>\n",
       "      <td>3</td>\n",
       "      <td>male</td>\n",
       "      <td>0</td>\n",
       "      <td>0</td>\n",
       "      <td>373450</td>\n",
       "      <td>S</td>\n",
       "    </tr>\n",
       "  </tbody>\n",
       "</table>\n",
       "</div>"
      ],
      "text/plain": [
       "    Age     Fare  Pclass     Sex  SibSp  Parch            Ticket Embarked\n",
       "0  22.0   7.2500       3    male      1      0         A/5 21171        S\n",
       "1  38.0  71.2833       1  female      1      0          PC 17599        C\n",
       "2  26.0   7.9250       3  female      0      0  STON/O2. 3101282        S\n",
       "3  35.0  53.1000       1  female      1      0            113803        S\n",
       "4  35.0   8.0500       3    male      0      0            373450        S"
      ]
     },
     "execution_count": 8,
     "metadata": {},
     "output_type": "execute_result"
    }
   ],
   "source": [
    "X_train.head()"
   ]
  },
  {
   "cell_type": "markdown",
   "id": "050818f2",
   "metadata": {
    "papermill": {
     "duration": 0.006473,
     "end_time": "2022-07-23T14:55:24.680217",
     "exception": false,
     "start_time": "2022-07-23T14:55:24.673744",
     "status": "completed"
    },
    "tags": []
   },
   "source": [
    "Our baseline will be the score of a Perceptron algorithm"
   ]
  },
  {
   "cell_type": "code",
   "execution_count": 9,
   "id": "ae9f1856",
   "metadata": {
    "execution": {
     "iopub.execute_input": "2022-07-23T14:55:24.695819Z",
     "iopub.status.busy": "2022-07-23T14:55:24.695094Z",
     "iopub.status.idle": "2022-07-23T14:55:24.699840Z",
     "shell.execute_reply": "2022-07-23T14:55:24.699065Z"
    },
    "papermill": {
     "duration": 0.014874,
     "end_time": "2022-07-23T14:55:24.701835",
     "exception": false,
     "start_time": "2022-07-23T14:55:24.686961",
     "status": "completed"
    },
    "tags": []
   },
   "outputs": [],
   "source": [
    "estimator = Perceptron(random_state = random_state)"
   ]
  },
  {
   "cell_type": "code",
   "execution_count": 10,
   "id": "865147f0",
   "metadata": {
    "execution": {
     "iopub.execute_input": "2022-07-23T14:55:24.717605Z",
     "iopub.status.busy": "2022-07-23T14:55:24.716886Z",
     "iopub.status.idle": "2022-07-23T14:55:24.722247Z",
     "shell.execute_reply": "2022-07-23T14:55:24.721596Z"
    },
    "papermill": {
     "duration": 0.015521,
     "end_time": "2022-07-23T14:55:24.724265",
     "exception": false,
     "start_time": "2022-07-23T14:55:24.708744",
     "status": "completed"
    },
    "tags": []
   },
   "outputs": [],
   "source": [
    "model = pipeline(numerical_imputer = numerical_imputer\n",
    "                 , numerical_scaler = numerical_scaler\n",
    "                 , numerical_features = numerical_features  \n",
    "                 , categorical_imputer = categorical_imputer\n",
    "                 , categorical_encoder = categorical_encoder\n",
    "                 , categorical_features = categorical_features\n",
    "                 , estimator = estimator)"
   ]
  },
  {
   "cell_type": "code",
   "execution_count": 11,
   "id": "4b9daf69",
   "metadata": {
    "execution": {
     "iopub.execute_input": "2022-07-23T14:55:24.739675Z",
     "iopub.status.busy": "2022-07-23T14:55:24.738969Z",
     "iopub.status.idle": "2022-07-23T14:55:24.800007Z",
     "shell.execute_reply": "2022-07-23T14:55:24.798767Z"
    },
    "papermill": {
     "duration": 0.071364,
     "end_time": "2022-07-23T14:55:24.802266",
     "exception": false,
     "start_time": "2022-07-23T14:55:24.730902",
     "status": "completed"
    },
    "tags": []
   },
   "outputs": [
    {
     "data": {
      "text/html": [
       "<style>#sk-5762c5fa-974d-4113-8f53-349a317962d0 {color: black;background-color: white;}#sk-5762c5fa-974d-4113-8f53-349a317962d0 pre{padding: 0;}#sk-5762c5fa-974d-4113-8f53-349a317962d0 div.sk-toggleable {background-color: white;}#sk-5762c5fa-974d-4113-8f53-349a317962d0 label.sk-toggleable__label {cursor: pointer;display: block;width: 100%;margin-bottom: 0;padding: 0.3em;box-sizing: border-box;text-align: center;}#sk-5762c5fa-974d-4113-8f53-349a317962d0 label.sk-toggleable__label-arrow:before {content: \"▸\";float: left;margin-right: 0.25em;color: #696969;}#sk-5762c5fa-974d-4113-8f53-349a317962d0 label.sk-toggleable__label-arrow:hover:before {color: black;}#sk-5762c5fa-974d-4113-8f53-349a317962d0 div.sk-estimator:hover label.sk-toggleable__label-arrow:before {color: black;}#sk-5762c5fa-974d-4113-8f53-349a317962d0 div.sk-toggleable__content {max-height: 0;max-width: 0;overflow: hidden;text-align: left;background-color: #f0f8ff;}#sk-5762c5fa-974d-4113-8f53-349a317962d0 div.sk-toggleable__content pre {margin: 0.2em;color: black;border-radius: 0.25em;background-color: #f0f8ff;}#sk-5762c5fa-974d-4113-8f53-349a317962d0 input.sk-toggleable__control:checked~div.sk-toggleable__content {max-height: 200px;max-width: 100%;overflow: auto;}#sk-5762c5fa-974d-4113-8f53-349a317962d0 input.sk-toggleable__control:checked~label.sk-toggleable__label-arrow:before {content: \"▾\";}#sk-5762c5fa-974d-4113-8f53-349a317962d0 div.sk-estimator input.sk-toggleable__control:checked~label.sk-toggleable__label {background-color: #d4ebff;}#sk-5762c5fa-974d-4113-8f53-349a317962d0 div.sk-label input.sk-toggleable__control:checked~label.sk-toggleable__label {background-color: #d4ebff;}#sk-5762c5fa-974d-4113-8f53-349a317962d0 input.sk-hidden--visually {border: 0;clip: rect(1px 1px 1px 1px);clip: rect(1px, 1px, 1px, 1px);height: 1px;margin: -1px;overflow: hidden;padding: 0;position: absolute;width: 1px;}#sk-5762c5fa-974d-4113-8f53-349a317962d0 div.sk-estimator {font-family: monospace;background-color: #f0f8ff;border: 1px dotted black;border-radius: 0.25em;box-sizing: border-box;margin-bottom: 0.5em;}#sk-5762c5fa-974d-4113-8f53-349a317962d0 div.sk-estimator:hover {background-color: #d4ebff;}#sk-5762c5fa-974d-4113-8f53-349a317962d0 div.sk-parallel-item::after {content: \"\";width: 100%;border-bottom: 1px solid gray;flex-grow: 1;}#sk-5762c5fa-974d-4113-8f53-349a317962d0 div.sk-label:hover label.sk-toggleable__label {background-color: #d4ebff;}#sk-5762c5fa-974d-4113-8f53-349a317962d0 div.sk-serial::before {content: \"\";position: absolute;border-left: 1px solid gray;box-sizing: border-box;top: 2em;bottom: 0;left: 50%;}#sk-5762c5fa-974d-4113-8f53-349a317962d0 div.sk-serial {display: flex;flex-direction: column;align-items: center;background-color: white;padding-right: 0.2em;padding-left: 0.2em;}#sk-5762c5fa-974d-4113-8f53-349a317962d0 div.sk-item {z-index: 1;}#sk-5762c5fa-974d-4113-8f53-349a317962d0 div.sk-parallel {display: flex;align-items: stretch;justify-content: center;background-color: white;}#sk-5762c5fa-974d-4113-8f53-349a317962d0 div.sk-parallel::before {content: \"\";position: absolute;border-left: 1px solid gray;box-sizing: border-box;top: 2em;bottom: 0;left: 50%;}#sk-5762c5fa-974d-4113-8f53-349a317962d0 div.sk-parallel-item {display: flex;flex-direction: column;position: relative;background-color: white;}#sk-5762c5fa-974d-4113-8f53-349a317962d0 div.sk-parallel-item:first-child::after {align-self: flex-end;width: 50%;}#sk-5762c5fa-974d-4113-8f53-349a317962d0 div.sk-parallel-item:last-child::after {align-self: flex-start;width: 50%;}#sk-5762c5fa-974d-4113-8f53-349a317962d0 div.sk-parallel-item:only-child::after {width: 0;}#sk-5762c5fa-974d-4113-8f53-349a317962d0 div.sk-dashed-wrapped {border: 1px dashed gray;margin: 0 0.4em 0.5em 0.4em;box-sizing: border-box;padding-bottom: 0.4em;background-color: white;position: relative;}#sk-5762c5fa-974d-4113-8f53-349a317962d0 div.sk-label label {font-family: monospace;font-weight: bold;background-color: white;display: inline-block;line-height: 1.2em;}#sk-5762c5fa-974d-4113-8f53-349a317962d0 div.sk-label-container {position: relative;z-index: 2;text-align: center;}#sk-5762c5fa-974d-4113-8f53-349a317962d0 div.sk-container {/* jupyter's `normalize.less` sets `[hidden] { display: none; }` but bootstrap.min.css set `[hidden] { display: none !important; }` so we also need the `!important` here to be able to override the default hidden behavior on the sphinx rendered scikit-learn.org. See: https://github.com/scikit-learn/scikit-learn/issues/21755 */display: inline-block !important;position: relative;}#sk-5762c5fa-974d-4113-8f53-349a317962d0 div.sk-text-repr-fallback {display: none;}</style><div id=\"sk-5762c5fa-974d-4113-8f53-349a317962d0\" class=\"sk-top-container\"><div class=\"sk-text-repr-fallback\"><pre>Pipeline(steps=[(&#x27;preprocessor&#x27;,\n",
       "                 ColumnTransformer(transformers=[(&#x27;num&#x27;,\n",
       "                                                  Pipeline(steps=[(&#x27;numerical_imputer&#x27;,\n",
       "                                                                   SimpleImputer()),\n",
       "                                                                  (&#x27;numerical_scaler&#x27;,\n",
       "                                                                   StandardScaler())]),\n",
       "                                                  [&#x27;Age&#x27;, &#x27;Fare&#x27;]),\n",
       "                                                 (&#x27;cat&#x27;,\n",
       "                                                  Pipeline(steps=[(&#x27;categorical_imputer&#x27;,\n",
       "                                                                   SimpleImputer(strategy=&#x27;most_frequent&#x27;)),\n",
       "                                                                  (&#x27;categorical_encoder&#x27;,\n",
       "                                                                   OneHotEncoder(handle_unknown=&#x27;ignore&#x27;))]),\n",
       "                                                  [&#x27;Pclass&#x27;, &#x27;Sex&#x27;, &#x27;SibSp&#x27;,\n",
       "                                                   &#x27;Parch&#x27;, &#x27;Ticket&#x27;,\n",
       "                                                   &#x27;Embarked&#x27;])])),\n",
       "                (&#x27;classifier&#x27;, Perceptron())])</pre><b>Please rerun this cell to show the HTML repr or trust the notebook.</b></div><div class=\"sk-container\" hidden><div class=\"sk-item sk-dashed-wrapped\"><div class=\"sk-label-container\"><div class=\"sk-label sk-toggleable\"><input class=\"sk-toggleable__control sk-hidden--visually\" id=\"e00371d0-04f4-4a72-96e3-796676d0876f\" type=\"checkbox\" ><label for=\"e00371d0-04f4-4a72-96e3-796676d0876f\" class=\"sk-toggleable__label sk-toggleable__label-arrow\">Pipeline</label><div class=\"sk-toggleable__content\"><pre>Pipeline(steps=[(&#x27;preprocessor&#x27;,\n",
       "                 ColumnTransformer(transformers=[(&#x27;num&#x27;,\n",
       "                                                  Pipeline(steps=[(&#x27;numerical_imputer&#x27;,\n",
       "                                                                   SimpleImputer()),\n",
       "                                                                  (&#x27;numerical_scaler&#x27;,\n",
       "                                                                   StandardScaler())]),\n",
       "                                                  [&#x27;Age&#x27;, &#x27;Fare&#x27;]),\n",
       "                                                 (&#x27;cat&#x27;,\n",
       "                                                  Pipeline(steps=[(&#x27;categorical_imputer&#x27;,\n",
       "                                                                   SimpleImputer(strategy=&#x27;most_frequent&#x27;)),\n",
       "                                                                  (&#x27;categorical_encoder&#x27;,\n",
       "                                                                   OneHotEncoder(handle_unknown=&#x27;ignore&#x27;))]),\n",
       "                                                  [&#x27;Pclass&#x27;, &#x27;Sex&#x27;, &#x27;SibSp&#x27;,\n",
       "                                                   &#x27;Parch&#x27;, &#x27;Ticket&#x27;,\n",
       "                                                   &#x27;Embarked&#x27;])])),\n",
       "                (&#x27;classifier&#x27;, Perceptron())])</pre></div></div></div><div class=\"sk-serial\"><div class=\"sk-item sk-dashed-wrapped\"><div class=\"sk-label-container\"><div class=\"sk-label sk-toggleable\"><input class=\"sk-toggleable__control sk-hidden--visually\" id=\"aeb06421-15f0-4c1c-b8c8-0b44cead038e\" type=\"checkbox\" ><label for=\"aeb06421-15f0-4c1c-b8c8-0b44cead038e\" class=\"sk-toggleable__label sk-toggleable__label-arrow\">preprocessor: ColumnTransformer</label><div class=\"sk-toggleable__content\"><pre>ColumnTransformer(transformers=[(&#x27;num&#x27;,\n",
       "                                 Pipeline(steps=[(&#x27;numerical_imputer&#x27;,\n",
       "                                                  SimpleImputer()),\n",
       "                                                 (&#x27;numerical_scaler&#x27;,\n",
       "                                                  StandardScaler())]),\n",
       "                                 [&#x27;Age&#x27;, &#x27;Fare&#x27;]),\n",
       "                                (&#x27;cat&#x27;,\n",
       "                                 Pipeline(steps=[(&#x27;categorical_imputer&#x27;,\n",
       "                                                  SimpleImputer(strategy=&#x27;most_frequent&#x27;)),\n",
       "                                                 (&#x27;categorical_encoder&#x27;,\n",
       "                                                  OneHotEncoder(handle_unknown=&#x27;ignore&#x27;))]),\n",
       "                                 [&#x27;Pclass&#x27;, &#x27;Sex&#x27;, &#x27;SibSp&#x27;, &#x27;Parch&#x27;, &#x27;Ticket&#x27;,\n",
       "                                  &#x27;Embarked&#x27;])])</pre></div></div></div><div class=\"sk-parallel\"><div class=\"sk-parallel-item\"><div class=\"sk-item\"><div class=\"sk-label-container\"><div class=\"sk-label sk-toggleable\"><input class=\"sk-toggleable__control sk-hidden--visually\" id=\"cfc2d995-9897-4b04-9cd3-5892366ea7c7\" type=\"checkbox\" ><label for=\"cfc2d995-9897-4b04-9cd3-5892366ea7c7\" class=\"sk-toggleable__label sk-toggleable__label-arrow\">num</label><div class=\"sk-toggleable__content\"><pre>[&#x27;Age&#x27;, &#x27;Fare&#x27;]</pre></div></div></div><div class=\"sk-serial\"><div class=\"sk-item\"><div class=\"sk-serial\"><div class=\"sk-item\"><div class=\"sk-estimator sk-toggleable\"><input class=\"sk-toggleable__control sk-hidden--visually\" id=\"a6bad814-6b08-45e0-820e-e69e8e888078\" type=\"checkbox\" ><label for=\"a6bad814-6b08-45e0-820e-e69e8e888078\" class=\"sk-toggleable__label sk-toggleable__label-arrow\">SimpleImputer</label><div class=\"sk-toggleable__content\"><pre>SimpleImputer()</pre></div></div></div><div class=\"sk-item\"><div class=\"sk-estimator sk-toggleable\"><input class=\"sk-toggleable__control sk-hidden--visually\" id=\"81f6d7e4-ef40-4b2a-90fd-69b0be6acc36\" type=\"checkbox\" ><label for=\"81f6d7e4-ef40-4b2a-90fd-69b0be6acc36\" class=\"sk-toggleable__label sk-toggleable__label-arrow\">StandardScaler</label><div class=\"sk-toggleable__content\"><pre>StandardScaler()</pre></div></div></div></div></div></div></div></div><div class=\"sk-parallel-item\"><div class=\"sk-item\"><div class=\"sk-label-container\"><div class=\"sk-label sk-toggleable\"><input class=\"sk-toggleable__control sk-hidden--visually\" id=\"82052e39-166a-4df2-8512-84cc18fd5c1a\" type=\"checkbox\" ><label for=\"82052e39-166a-4df2-8512-84cc18fd5c1a\" class=\"sk-toggleable__label sk-toggleable__label-arrow\">cat</label><div class=\"sk-toggleable__content\"><pre>[&#x27;Pclass&#x27;, &#x27;Sex&#x27;, &#x27;SibSp&#x27;, &#x27;Parch&#x27;, &#x27;Ticket&#x27;, &#x27;Embarked&#x27;]</pre></div></div></div><div class=\"sk-serial\"><div class=\"sk-item\"><div class=\"sk-serial\"><div class=\"sk-item\"><div class=\"sk-estimator sk-toggleable\"><input class=\"sk-toggleable__control sk-hidden--visually\" id=\"315548a2-5c52-49d5-9c9b-a1503ceea910\" type=\"checkbox\" ><label for=\"315548a2-5c52-49d5-9c9b-a1503ceea910\" class=\"sk-toggleable__label sk-toggleable__label-arrow\">SimpleImputer</label><div class=\"sk-toggleable__content\"><pre>SimpleImputer(strategy=&#x27;most_frequent&#x27;)</pre></div></div></div><div class=\"sk-item\"><div class=\"sk-estimator sk-toggleable\"><input class=\"sk-toggleable__control sk-hidden--visually\" id=\"fd011678-6922-45d8-b895-215ec0a36593\" type=\"checkbox\" ><label for=\"fd011678-6922-45d8-b895-215ec0a36593\" class=\"sk-toggleable__label sk-toggleable__label-arrow\">OneHotEncoder</label><div class=\"sk-toggleable__content\"><pre>OneHotEncoder(handle_unknown=&#x27;ignore&#x27;)</pre></div></div></div></div></div></div></div></div></div></div><div class=\"sk-item\"><div class=\"sk-estimator sk-toggleable\"><input class=\"sk-toggleable__control sk-hidden--visually\" id=\"fed16ad4-17a5-4680-8b08-df712fa3d56c\" type=\"checkbox\" ><label for=\"fed16ad4-17a5-4680-8b08-df712fa3d56c\" class=\"sk-toggleable__label sk-toggleable__label-arrow\">Perceptron</label><div class=\"sk-toggleable__content\"><pre>Perceptron()</pre></div></div></div></div></div></div></div>"
      ],
      "text/plain": [
       "Pipeline(steps=[('preprocessor',\n",
       "                 ColumnTransformer(transformers=[('num',\n",
       "                                                  Pipeline(steps=[('numerical_imputer',\n",
       "                                                                   SimpleImputer()),\n",
       "                                                                  ('numerical_scaler',\n",
       "                                                                   StandardScaler())]),\n",
       "                                                  ['Age', 'Fare']),\n",
       "                                                 ('cat',\n",
       "                                                  Pipeline(steps=[('categorical_imputer',\n",
       "                                                                   SimpleImputer(strategy='most_frequent')),\n",
       "                                                                  ('categorical_encoder',\n",
       "                                                                   OneHotEncoder(handle_unknown='ignore'))]),\n",
       "                                                  ['Pclass', 'Sex', 'SibSp',\n",
       "                                                   'Parch', 'Ticket',\n",
       "                                                   'Embarked'])])),\n",
       "                ('classifier', Perceptron())])"
      ]
     },
     "execution_count": 11,
     "metadata": {},
     "output_type": "execute_result"
    }
   ],
   "source": [
    "set_config(display=\"diagram\")\n",
    "model"
   ]
  },
  {
   "cell_type": "code",
   "execution_count": 12,
   "id": "af6c377a",
   "metadata": {
    "execution": {
     "iopub.execute_input": "2022-07-23T14:55:24.818899Z",
     "iopub.status.busy": "2022-07-23T14:55:24.817785Z",
     "iopub.status.idle": "2022-07-23T14:55:25.081861Z",
     "shell.execute_reply": "2022-07-23T14:55:25.080662Z"
    },
    "papermill": {
     "duration": 0.274896,
     "end_time": "2022-07-23T14:55:25.084379",
     "exception": false,
     "start_time": "2022-07-23T14:55:24.809483",
     "status": "completed"
    },
    "tags": []
   },
   "outputs": [
    {
     "name": "stdout",
     "output_type": "stream",
     "text": [
      "Average CV score: 0.8058426966292135\n",
      "CV score standard deviation:  0.02883418414803673\n"
     ]
    }
   ],
   "source": [
    "scores = cross_val_score(model, X_train, y_train, scoring=\"accuracy\", cv=10)\n",
    "print(\"Average CV score:\", scores.mean())\n",
    "print(\"CV score standard deviation: \", scores.std())\n"
   ]
  },
  {
   "cell_type": "code",
   "execution_count": 13,
   "id": "e31241f4",
   "metadata": {
    "execution": {
     "iopub.execute_input": "2022-07-23T14:55:25.100871Z",
     "iopub.status.busy": "2022-07-23T14:55:25.100471Z",
     "iopub.status.idle": "2022-07-23T14:55:25.324528Z",
     "shell.execute_reply": "2022-07-23T14:55:25.323259Z"
    },
    "papermill": {
     "duration": 0.235111,
     "end_time": "2022-07-23T14:55:25.326998",
     "exception": false,
     "start_time": "2022-07-23T14:55:25.091887",
     "status": "completed"
    },
    "tags": []
   },
   "outputs": [
    {
     "data": {
      "image/png": "[encoded data removed]",
      "text/plain": [
       "<Figure size 432x288 with 2 Axes>"
      ]
     },
     "metadata": {
      "needs_background": "light"
     },
     "output_type": "display_data"
    },
    {
     "name": "stdout",
     "output_type": "stream",
     "text": [
      "0.9652076318742986\n"
     ]
    }
   ],
   "source": [
    "model.fit(X_train, y_train)\n",
    "Y_train_pred = model.predict(X_train)\n",
    "\n",
    "from sklearn.metrics import ConfusionMatrixDisplay\n",
    "\n",
    "ConfusionMatrixDisplay.from_predictions(y_train, Y_train_pred)\n",
    "plt.title(\"Confusion matrix for training set\")\n",
    "plt.show()\n",
    "\n",
    "print(accuracy_score(y_train, Y_train_pred))"
   ]
  },
  {
   "cell_type": "markdown",
   "id": "33b3167e",
   "metadata": {
    "papermill": {
     "duration": 0.007362,
     "end_time": "2022-07-23T14:55:25.342268",
     "exception": false,
     "start_time": "2022-07-23T14:55:25.334906",
     "status": "completed"
    },
    "tags": []
   },
   "source": [
    "Let's try another model using, XGBoost :"
   ]
  },
  {
   "cell_type": "code",
   "execution_count": 14,
   "id": "38f210b8",
   "metadata": {
    "execution": {
     "iopub.execute_input": "2022-07-23T14:55:25.359515Z",
     "iopub.status.busy": "2022-07-23T14:55:25.358436Z",
     "iopub.status.idle": "2022-07-23T14:55:25.363587Z",
     "shell.execute_reply": "2022-07-23T14:55:25.362862Z"
    },
    "papermill": {
     "duration": 0.015501,
     "end_time": "2022-07-23T14:55:25.365319",
     "exception": false,
     "start_time": "2022-07-23T14:55:25.349818",
     "status": "completed"
    },
    "tags": []
   },
   "outputs": [],
   "source": [
    "estimator = GradientBoostingClassifier(random_state = random_state)\n",
    "model = pipeline(numerical_imputer = numerical_imputer\n",
    "                 , numerical_scaler = numerical_scaler\n",
    "                 , numerical_features = numerical_features  \n",
    "                 , categorical_imputer = categorical_imputer\n",
    "                 , categorical_encoder = categorical_encoder\n",
    "                 , categorical_features = categorical_features\n",
    "                 , estimator = estimator)"
   ]
  },
  {
   "cell_type": "code",
   "execution_count": 15,
   "id": "22d8aeb1",
   "metadata": {
    "execution": {
     "iopub.execute_input": "2022-07-23T14:55:25.382049Z",
     "iopub.status.busy": "2022-07-23T14:55:25.381372Z",
     "iopub.status.idle": "2022-07-23T14:55:26.958738Z",
     "shell.execute_reply": "2022-07-23T14:55:26.957531Z"
    },
    "papermill": {
     "duration": 1.587793,
     "end_time": "2022-07-23T14:55:26.960665",
     "exception": false,
     "start_time": "2022-07-23T14:55:25.372872",
     "status": "completed"
    },
    "tags": []
   },
   "outputs": [
    {
     "name": "stdout",
     "output_type": "stream",
     "text": [
      "Average CV score: 0.8148439450686642\n",
      "CV score standard deviation:  0.036836895821586654\n"
     ]
    }
   ],
   "source": [
    "scores = cross_val_score(model, X_train, y_train, scoring=\"accuracy\", cv=10)\n",
    "print(\"Average CV score:\", scores.mean())\n",
    "print(\"CV score standard deviation: \", scores.std())"
   ]
  },
  {
   "cell_type": "code",
   "execution_count": 16,
   "id": "14d5b232",
   "metadata": {
    "execution": {
     "iopub.execute_input": "2022-07-23T14:55:26.978032Z",
     "iopub.status.busy": "2022-07-23T14:55:26.977411Z",
     "iopub.status.idle": "2022-07-23T14:55:27.340474Z",
     "shell.execute_reply": "2022-07-23T14:55:27.339330Z"
    },
    "papermill": {
     "duration": 0.375266,
     "end_time": "2022-07-23T14:55:27.343584",
     "exception": false,
     "start_time": "2022-07-23T14:55:26.968318",
     "status": "completed"
    },
    "tags": []
   },
   "outputs": [
    {
     "data": {
      "image/png": "[encoded data removed]",
      "text/plain": [
       "<Figure size 432x288 with 2 Axes>"
      ]
     },
     "metadata": {
      "needs_background": "light"
     },
     "output_type": "display_data"
    },
    {
     "name": "stdout",
     "output_type": "stream",
     "text": [
      "0.8630751964085297\n"
     ]
    }
   ],
   "source": [
    "model.fit(X_train, y_train)\n",
    "Y_train_pred = model.predict(X_train)\n",
    "\n",
    "from sklearn.metrics import ConfusionMatrixDisplay\n",
    "\n",
    "ConfusionMatrixDisplay.from_predictions(y_train, Y_train_pred)\n",
    "plt.title(\"Confusion matrix for training set\")\n",
    "plt.show()\n",
    "print(accuracy_score(y_train, Y_train_pred))"
   ]
  },
  {
   "cell_type": "code",
   "execution_count": 17,
   "id": "a24057cf",
   "metadata": {
    "execution": {
     "iopub.execute_input": "2022-07-23T14:55:27.366288Z",
     "iopub.status.busy": "2022-07-23T14:55:27.365438Z",
     "iopub.status.idle": "2022-07-23T14:55:27.400456Z",
     "shell.execute_reply": "2022-07-23T14:55:27.399585Z"
    },
    "papermill": {
     "duration": 0.049914,
     "end_time": "2022-07-23T14:55:27.402666",
     "exception": false,
     "start_time": "2022-07-23T14:55:27.352752",
     "status": "completed"
    },
    "tags": []
   },
   "outputs": [
    {
     "data": {
      "text/html": [
       "<div>\n",
       "<style scoped>\n",
       "    .dataframe tbody tr th:only-of-type {\n",
       "        vertical-align: middle;\n",
       "    }\n",
       "\n",
       "    .dataframe tbody tr th {\n",
       "        vertical-align: top;\n",
       "    }\n",
       "\n",
       "    .dataframe thead th {\n",
       "        text-align: right;\n",
       "    }\n",
       "</style>\n",
       "<table border=\"1\" class=\"dataframe\">\n",
       "  <thead>\n",
       "    <tr style=\"text-align: right;\">\n",
       "      <th></th>\n",
       "      <th>Age</th>\n",
       "      <th>Fare</th>\n",
       "      <th>Pclass</th>\n",
       "      <th>Sex</th>\n",
       "      <th>SibSp</th>\n",
       "      <th>Parch</th>\n",
       "      <th>Ticket</th>\n",
       "      <th>Embarked</th>\n",
       "    </tr>\n",
       "  </thead>\n",
       "  <tbody>\n",
       "    <tr>\n",
       "      <th>0</th>\n",
       "      <td>34.5</td>\n",
       "      <td>7.8292</td>\n",
       "      <td>3</td>\n",
       "      <td>male</td>\n",
       "      <td>0</td>\n",
       "      <td>0</td>\n",
       "      <td>330911</td>\n",
       "      <td>Q</td>\n",
       "    </tr>\n",
       "    <tr>\n",
       "      <th>1</th>\n",
       "      <td>47.0</td>\n",
       "      <td>7.0000</td>\n",
       "      <td>3</td>\n",
       "      <td>female</td>\n",
       "      <td>1</td>\n",
       "      <td>0</td>\n",
       "      <td>363272</td>\n",
       "      <td>S</td>\n",
       "    </tr>\n",
       "    <tr>\n",
       "      <th>2</th>\n",
       "      <td>62.0</td>\n",
       "      <td>9.6875</td>\n",
       "      <td>2</td>\n",
       "      <td>male</td>\n",
       "      <td>0</td>\n",
       "      <td>0</td>\n",
       "      <td>240276</td>\n",
       "      <td>Q</td>\n",
       "    </tr>\n",
       "    <tr>\n",
       "      <th>3</th>\n",
       "      <td>27.0</td>\n",
       "      <td>8.6625</td>\n",
       "      <td>3</td>\n",
       "      <td>male</td>\n",
       "      <td>0</td>\n",
       "      <td>0</td>\n",
       "      <td>315154</td>\n",
       "      <td>S</td>\n",
       "    </tr>\n",
       "    <tr>\n",
       "      <th>4</th>\n",
       "      <td>22.0</td>\n",
       "      <td>12.2875</td>\n",
       "      <td>3</td>\n",
       "      <td>female</td>\n",
       "      <td>1</td>\n",
       "      <td>1</td>\n",
       "      <td>3101298</td>\n",
       "      <td>S</td>\n",
       "    </tr>\n",
       "    <tr>\n",
       "      <th>...</th>\n",
       "      <td>...</td>\n",
       "      <td>...</td>\n",
       "      <td>...</td>\n",
       "      <td>...</td>\n",
       "      <td>...</td>\n",
       "      <td>...</td>\n",
       "      <td>...</td>\n",
       "      <td>...</td>\n",
       "    </tr>\n",
       "    <tr>\n",
       "      <th>413</th>\n",
       "      <td>NaN</td>\n",
       "      <td>8.0500</td>\n",
       "      <td>3</td>\n",
       "      <td>male</td>\n",
       "      <td>0</td>\n",
       "      <td>0</td>\n",
       "      <td>A.5. 3236</td>\n",
       "      <td>S</td>\n",
       "    </tr>\n",
       "    <tr>\n",
       "      <th>414</th>\n",
       "      <td>39.0</td>\n",
       "      <td>108.9000</td>\n",
       "      <td>1</td>\n",
       "      <td>female</td>\n",
       "      <td>0</td>\n",
       "      <td>0</td>\n",
       "      <td>PC 17758</td>\n",
       "      <td>C</td>\n",
       "    </tr>\n",
       "    <tr>\n",
       "      <th>415</th>\n",
       "      <td>38.5</td>\n",
       "      <td>7.2500</td>\n",
       "      <td>3</td>\n",
       "      <td>male</td>\n",
       "      <td>0</td>\n",
       "      <td>0</td>\n",
       "      <td>SOTON/O.Q. 3101262</td>\n",
       "      <td>S</td>\n",
       "    </tr>\n",
       "    <tr>\n",
       "      <th>416</th>\n",
       "      <td>NaN</td>\n",
       "      <td>8.0500</td>\n",
       "      <td>3</td>\n",
       "      <td>male</td>\n",
       "      <td>0</td>\n",
       "      <td>0</td>\n",
       "      <td>359309</td>\n",
       "      <td>S</td>\n",
       "    </tr>\n",
       "    <tr>\n",
       "      <th>417</th>\n",
       "      <td>NaN</td>\n",
       "      <td>22.3583</td>\n",
       "      <td>3</td>\n",
       "      <td>male</td>\n",
       "      <td>1</td>\n",
       "      <td>1</td>\n",
       "      <td>2668</td>\n",
       "      <td>C</td>\n",
       "    </tr>\n",
       "  </tbody>\n",
       "</table>\n",
       "<p>418 rows × 8 columns</p>\n",
       "</div>"
      ],
      "text/plain": [
       "      Age      Fare  Pclass     Sex  SibSp  Parch              Ticket Embarked\n",
       "0    34.5    7.8292       3    male      0      0              330911        Q\n",
       "1    47.0    7.0000       3  female      1      0              363272        S\n",
       "2    62.0    9.6875       2    male      0      0              240276        Q\n",
       "3    27.0    8.6625       3    male      0      0              315154        S\n",
       "4    22.0   12.2875       3  female      1      1             3101298        S\n",
       "..    ...       ...     ...     ...    ...    ...                 ...      ...\n",
       "413   NaN    8.0500       3    male      0      0           A.5. 3236        S\n",
       "414  39.0  108.9000       1  female      0      0            PC 17758        C\n",
       "415  38.5    7.2500       3    male      0      0  SOTON/O.Q. 3101262        S\n",
       "416   NaN    8.0500       3    male      0      0              359309        S\n",
       "417   NaN   22.3583       3    male      1      1                2668        C\n",
       "\n",
       "[418 rows x 8 columns]"
      ]
     },
     "metadata": {},
     "output_type": "display_data"
    },
    {
     "data": {
      "text/html": [
       "<div>\n",
       "<style scoped>\n",
       "    .dataframe tbody tr th:only-of-type {\n",
       "        vertical-align: middle;\n",
       "    }\n",
       "\n",
       "    .dataframe tbody tr th {\n",
       "        vertical-align: top;\n",
       "    }\n",
       "\n",
       "    .dataframe thead th {\n",
       "        text-align: right;\n",
       "    }\n",
       "</style>\n",
       "<table border=\"1\" class=\"dataframe\">\n",
       "  <thead>\n",
       "    <tr style=\"text-align: right;\">\n",
       "      <th></th>\n",
       "      <th>Survived</th>\n",
       "    </tr>\n",
       "    <tr>\n",
       "      <th>PassengerId</th>\n",
       "      <th></th>\n",
       "    </tr>\n",
       "  </thead>\n",
       "  <tbody>\n",
       "    <tr>\n",
       "      <th>892</th>\n",
       "      <td>0</td>\n",
       "    </tr>\n",
       "    <tr>\n",
       "      <th>893</th>\n",
       "      <td>0</td>\n",
       "    </tr>\n",
       "    <tr>\n",
       "      <th>894</th>\n",
       "      <td>0</td>\n",
       "    </tr>\n",
       "    <tr>\n",
       "      <th>895</th>\n",
       "      <td>0</td>\n",
       "    </tr>\n",
       "    <tr>\n",
       "      <th>896</th>\n",
       "      <td>0</td>\n",
       "    </tr>\n",
       "    <tr>\n",
       "      <th>...</th>\n",
       "      <td>...</td>\n",
       "    </tr>\n",
       "    <tr>\n",
       "      <th>1305</th>\n",
       "      <td>0</td>\n",
       "    </tr>\n",
       "    <tr>\n",
       "      <th>1306</th>\n",
       "      <td>1</td>\n",
       "    </tr>\n",
       "    <tr>\n",
       "      <th>1307</th>\n",
       "      <td>0</td>\n",
       "    </tr>\n",
       "    <tr>\n",
       "      <th>1308</th>\n",
       "      <td>0</td>\n",
       "    </tr>\n",
       "    <tr>\n",
       "      <th>1309</th>\n",
       "      <td>0</td>\n",
       "    </tr>\n",
       "  </tbody>\n",
       "</table>\n",
       "<p>418 rows × 1 columns</p>\n",
       "</div>"
      ],
      "text/plain": [
       "             Survived\n",
       "PassengerId          \n",
       "892                 0\n",
       "893                 0\n",
       "894                 0\n",
       "895                 0\n",
       "896                 0\n",
       "...               ...\n",
       "1305                0\n",
       "1306                1\n",
       "1307                0\n",
       "1308                0\n",
       "1309                0\n",
       "\n",
       "[418 rows x 1 columns]"
      ]
     },
     "metadata": {},
     "output_type": "display_data"
    }
   ],
   "source": [
    "make_submission()"
   ]
  },
  {
   "cell_type": "markdown",
   "id": "42f49e3e",
   "metadata": {
    "papermill": {
     "duration": 0.008014,
     "end_time": "2022-07-23T14:55:27.419447",
     "exception": false,
     "start_time": "2022-07-23T14:55:27.411433",
     "status": "completed"
    },
    "tags": []
   },
   "source": [
    "We can see that there are many missing values for the cabin numbers,we can drop that column.\n",
    "We can also remove the examples for which there is no age."
   ]
  },
  {
   "cell_type": "code",
   "execution_count": 18,
   "id": "51dc3b1b",
   "metadata": {
    "execution": {
     "iopub.execute_input": "2022-07-23T14:55:27.437947Z",
     "iopub.status.busy": "2022-07-23T14:55:27.437239Z",
     "iopub.status.idle": "2022-07-23T14:55:27.444035Z",
     "shell.execute_reply": "2022-07-23T14:55:27.443260Z"
    },
    "papermill": {
     "duration": 0.018151,
     "end_time": "2022-07-23T14:55:27.445848",
     "exception": false,
     "start_time": "2022-07-23T14:55:27.427697",
     "status": "completed"
    },
    "tags": []
   },
   "outputs": [
    {
     "data": {
      "text/plain": [
       "\"titanic_train = titanic_train.drop(['Cabin'], axis = 1)\\n\\ntitanic_test = titanic_test.drop(['Cabin'], axis = 1)\\n\\n#titanic_train = titanic_train.dropna()\\n#titanic_test = titanic_test.dropna()\\ntitanic_train = titanic_train.fillna(0)\\ntitanic_test = titanic_test.fillna(0)\""
      ]
     },
     "execution_count": 18,
     "metadata": {},
     "output_type": "execute_result"
    }
   ],
   "source": [
    "\"\"\"titanic_train = titanic_train.drop(['Cabin'], axis = 1)\n",
    "\n",
    "titanic_test = titanic_test.drop(['Cabin'], axis = 1)\n",
    "\n",
    "#titanic_train = titanic_train.dropna()\n",
    "#titanic_test = titanic_test.dropna()\n",
    "titanic_train = titanic_train.fillna(0)\n",
    "titanic_test = titanic_test.fillna(0)\"\"\""
   ]
  },
  {
   "cell_type": "markdown",
   "id": "c9f9ed8c",
   "metadata": {
    "execution": {
     "iopub.execute_input": "2022-07-08T05:54:56.741344Z",
     "iopub.status.busy": "2022-07-08T05:54:56.740516Z",
     "iopub.status.idle": "2022-07-08T05:54:56.770814Z",
     "shell.execute_reply": "2022-07-08T05:54:56.770104Z",
     "shell.execute_reply.started": "2022-07-08T05:54:56.741316Z"
    },
    "papermill": {
     "duration": 0.007976,
     "end_time": "2022-07-23T14:55:27.461928",
     "exception": false,
     "start_time": "2022-07-23T14:55:27.453952",
     "status": "completed"
    },
    "tags": []
   },
   "source": [
    "### display(titanic_train)\n",
    "display(titanic_test)"
   ]
  },
  {
   "cell_type": "code",
   "execution_count": null,
   "id": "c6f061ea",
   "metadata": {
    "papermill": {
     "duration": 0.008031,
     "end_time": "2022-07-23T14:55:27.478261",
     "exception": false,
     "start_time": "2022-07-23T14:55:27.470230",
     "status": "completed"
    },
    "tags": []
   },
   "outputs": [],
   "source": []
  }
 ],
 "metadata": {
  "kernelspec": {
   "display_name": "Python 3",
   "language": "python",
   "name": "python3"
  },
  "language_info": {
   "codemirror_mode": {
    "name": "ipython",
    "version": 3
   },
   "file_extension": ".py",
   "mimetype": "text/x-python",
   "name": "python",
   "nbconvert_exporter": "python",
   "pygments_lexer": "ipython3",
   "version": "3.7.12"
  },
  "papermill": {
   "default_parameters": {},
   "duration": 14.490078,
   "end_time": "2022-07-23T14:55:28.207587",
   "environment_variables": {},
   "exception": null,
   "input_path": "__notebook__.ipynb",
   "output_path": "__notebook__.ipynb",
   "parameters": {},
   "start_time": "2022-07-23T14:55:13.717509",
   "version": "2.3.4"
  }
 },
 "nbformat": 4,
 "nbformat_minor": 5
}
