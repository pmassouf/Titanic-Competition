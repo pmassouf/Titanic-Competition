{
 "cells": [
  {
   "cell_type": "code",
   "execution_count": 1,
   "id": "b7d73c54",
   "metadata": {
    "_cell_guid": "b1076dfc-b9ad-4769-8c92-a6c4dae69d19",
    "_uuid": "8f2839f25d086af736a60e9eeb907d3b93b6e0e5",
    "execution": {
     "iopub.execute_input": "2022-07-08T21:12:57.490511Z",
     "iopub.status.busy": "2022-07-08T21:12:57.489978Z",
     "iopub.status.idle": "2022-07-08T21:12:59.182961Z",
     "shell.execute_reply": "2022-07-08T21:12:59.181732Z"
    },
    "papermill": {
     "duration": 1.715785,
     "end_time": "2022-07-08T21:12:59.186747",
     "exception": false,
     "start_time": "2022-07-08T21:12:57.470962",
     "status": "completed"
    },
    "tags": []
   },
   "outputs": [
    {
     "name": "stdout",
     "output_type": "stream",
     "text": [
      "/kaggle/input/titanic/train.csv\n",
      "/kaggle/input/titanic/test.csv\n",
      "/kaggle/input/titanic/gender_submission.csv\n"
     ]
    }
   ],
   "source": [
    "# This Python 3 environment comes with many helpful analytics libraries installed\n",
    "# It is defined by the kaggle/python Docker image: https://github.com/kaggle/docker-python\n",
    "# For example, here's several helpful packages to load\n",
    "\n",
    "import numpy as np # linear algebra\n",
    "import pandas as pd # data processing, CSV file I/O (e.g. pd.read_csv)\n",
    "from sklearn.model_selection import KFold\n",
    "from sklearn.metrics import accuracy_score\n",
    "from sklearn.model_selection import train_test_split\n",
    "from sklearn.compose import ColumnTransformer\n",
    "from sklearn.ensemble import GradientBoostingClassifier, RandomForestClassifier\n",
    "from sklearn.linear_model import Perceptron\n",
    "from sklearn.impute import SimpleImputer\n",
    "from sklearn.model_selection import cross_val_score, GridSearchCV\n",
    "from sklearn.pipeline import Pipeline\n",
    "from sklearn.preprocessing import LabelBinarizer, OneHotEncoder, StandardScaler\n",
    "from sklearn import set_config\n",
    "# Input data files are available in the read-only \"../input/\" directory\n",
    "# For example, running this (by clicking run or pressing Shift+Enter) will list all files under the input directory\n",
    "import matplotlib.pyplot as plt \n",
    "import seaborn as sns\n",
    "import os\n",
    "for dirname, _, filenames in os.walk('/kaggle/input'):\n",
    "    for filename in filenames:\n",
    "        print(os.path.join(dirname, filename))\n",
    "\n",
    "# You can write up to 20GB to the current directory (/kaggle/working/) that gets preserved as output when you create a version using \"Save & Run All\" \n",
    "# You can also write temporary files to /kaggle/temp/, but they won't be saved outside of the current session"
   ]
  },
  {
   "cell_type": "markdown",
   "id": "b8b95c7a",
   "metadata": {
    "papermill": {
     "duration": 0.015663,
     "end_time": "2022-07-08T21:12:59.219179",
     "exception": false,
     "start_time": "2022-07-08T21:12:59.203516",
     "status": "completed"
    },
    "tags": []
   },
   "source": [
    "This function allows us to create a submission easily"
   ]
  },
  {
   "cell_type": "code",
   "execution_count": 2,
   "id": "88b0bfa7",
   "metadata": {
    "execution": {
     "iopub.execute_input": "2022-07-08T21:12:59.254965Z",
     "iopub.status.busy": "2022-07-08T21:12:59.254421Z",
     "iopub.status.idle": "2022-07-08T21:12:59.262010Z",
     "shell.execute_reply": "2022-07-08T21:12:59.260733Z"
    },
    "papermill": {
     "duration": 0.029382,
     "end_time": "2022-07-08T21:12:59.264730",
     "exception": false,
     "start_time": "2022-07-08T21:12:59.235348",
     "status": "completed"
    },
    "tags": []
   },
   "outputs": [],
   "source": [
    "def make_submission():\n",
    "    submission = titanic_test.copy()\n",
    "    #display(titanic_test)\n",
    "    Y_test_pred = model.predict(X_test)\n",
    "    display(X_test)\n",
    "    submission['Survived'] = Y_test_pred\n",
    "    submission.drop(submission.iloc[:, 1:-1], inplace=True, axis=1)\n",
    "    submission = submission.set_index('PassengerId')\n",
    "    display(submission)\n",
    "    submission.to_csv('/kaggle/working/submissionZ.csv')"
   ]
  },
  {
   "cell_type": "markdown",
   "id": "4016f89d",
   "metadata": {
    "papermill": {
     "duration": 0.015886,
     "end_time": "2022-07-08T21:12:59.296533",
     "exception": false,
     "start_time": "2022-07-08T21:12:59.280647",
     "status": "completed"
    },
    "tags": []
   },
   "source": [
    "# Titanic - Machine Learning from Disaster"
   ]
  },
  {
   "cell_type": "markdown",
   "id": "698b89fd",
   "metadata": {
    "papermill": {
     "duration": 0.015255,
     "end_time": "2022-07-08T21:12:59.327992",
     "exception": false,
     "start_time": "2022-07-08T21:12:59.312737",
     "status": "completed"
    },
    "tags": []
   },
   "source": [
    "Is it possible to predict whether someone will survive a given disaster? That is the question we'll try to answer.\n",
    "\n",
    "Here, we'll be using the example of the Titanic and its passengers. "
   ]
  },
  {
   "cell_type": "markdown",
   "id": "8d7248d6",
   "metadata": {
    "papermill": {
     "duration": 0.015155,
     "end_time": "2022-07-08T21:12:59.359115",
     "exception": false,
     "start_time": "2022-07-08T21:12:59.343960",
     "status": "completed"
    },
    "tags": []
   },
   "source": [
    "## Let's load the data"
   ]
  },
  {
   "cell_type": "markdown",
   "id": "f482d0fb",
   "metadata": {
    "papermill": {
     "duration": 0.015532,
     "end_time": "2022-07-08T21:12:59.390273",
     "exception": false,
     "start_time": "2022-07-08T21:12:59.374741",
     "status": "completed"
    },
    "tags": []
   },
   "source": [
    "# Explanations for the columns of our dataset:\n",
    "\n",
    "**Variable**\tDefinition\tKey\n",
    "**survival**\tSurvival\t0 = No, 1 = Yes\n",
    "**pclass**\tTicket class\t1 = 1st, 2 = 2nd, 3 = 3rd\n",
    "**sex**\tSex\t\n",
    "**Age**\tAge in years\t\n",
    "**sibsp**\t# of siblings / spouses aboard the Titanic\t\n",
    "**parch**\t# of parents / children aboard the Titanic\t\n",
    "**ticket**\tTicket number\t\n",
    "**fare**\tPassenger fare\t\n",
    "**cabin**\tCabin number\t\n",
    "**embarked**\tPort of Embarkation\tC = Cherbourg, Q = Queenstown, S = Southampton\n",
    "\n",
    "**pclass**: A proxy for socio-economic status (SES)\n",
    "1st = Upper\n",
    "2nd = Middle\n",
    "3rd = Lower\n",
    "\n",
    "**age**: Age is fractional if less than 1. If the age is estimated, is it in the form of xx.5\n",
    "\n",
    "**sibsp**: The dataset defines family relations in this way...\n",
    "**Sibling** = brother, sister, stepbrother, stepsister\n",
    "**Spouse** = husband, wife (mistresses and fiancés were ignored)\n",
    "\n",
    "**parch**: The dataset defines family relations in this way...\n",
    "**Parent** = mother, father\n",
    "**Child** = daughter, son, stepdaughter, stepson\n",
    "Some children travelled only with a nanny, therefore parch=0 for them."
   ]
  },
  {
   "cell_type": "markdown",
   "id": "b0e2d327",
   "metadata": {
    "papermill": {
     "duration": 0.015598,
     "end_time": "2022-07-08T21:12:59.421465",
     "exception": false,
     "start_time": "2022-07-08T21:12:59.405867",
     "status": "completed"
    },
    "tags": []
   },
   "source": [
    "# Data Exploration"
   ]
  },
  {
   "cell_type": "code",
   "execution_count": 3,
   "id": "75090606",
   "metadata": {
    "execution": {
     "iopub.execute_input": "2022-07-08T21:12:59.455212Z",
     "iopub.status.busy": "2022-07-08T21:12:59.454427Z",
     "iopub.status.idle": "2022-07-08T21:12:59.521653Z",
     "shell.execute_reply": "2022-07-08T21:12:59.520031Z"
    },
    "papermill": {
     "duration": 0.087038,
     "end_time": "2022-07-08T21:12:59.524474",
     "exception": false,
     "start_time": "2022-07-08T21:12:59.437436",
     "status": "completed"
    },
    "tags": []
   },
   "outputs": [
    {
     "name": "stdout",
     "output_type": "stream",
     "text": [
      "(891, 12)\n"
     ]
    },
    {
     "data": {
      "text/html": [
       "<div>\n",
       "<style scoped>\n",
       "    .dataframe tbody tr th:only-of-type {\n",
       "        vertical-align: middle;\n",
       "    }\n",
       "\n",
       "    .dataframe tbody tr th {\n",
       "        vertical-align: top;\n",
       "    }\n",
       "\n",
       "    .dataframe thead th {\n",
       "        text-align: right;\n",
       "    }\n",
       "</style>\n",
       "<table border=\"1\" class=\"dataframe\">\n",
       "  <thead>\n",
       "    <tr style=\"text-align: right;\">\n",
       "      <th></th>\n",
       "      <th>PassengerId</th>\n",
       "      <th>Survived</th>\n",
       "      <th>Pclass</th>\n",
       "      <th>Name</th>\n",
       "      <th>Sex</th>\n",
       "      <th>Age</th>\n",
       "      <th>SibSp</th>\n",
       "      <th>Parch</th>\n",
       "      <th>Ticket</th>\n",
       "      <th>Fare</th>\n",
       "      <th>Cabin</th>\n",
       "      <th>Embarked</th>\n",
       "    </tr>\n",
       "  </thead>\n",
       "  <tbody>\n",
       "    <tr>\n",
       "      <th>0</th>\n",
       "      <td>1</td>\n",
       "      <td>0</td>\n",
       "      <td>3</td>\n",
       "      <td>Braund, Mr. Owen Harris</td>\n",
       "      <td>male</td>\n",
       "      <td>22.0</td>\n",
       "      <td>1</td>\n",
       "      <td>0</td>\n",
       "      <td>A/5 21171</td>\n",
       "      <td>7.2500</td>\n",
       "      <td>NaN</td>\n",
       "      <td>S</td>\n",
       "    </tr>\n",
       "    <tr>\n",
       "      <th>1</th>\n",
       "      <td>2</td>\n",
       "      <td>1</td>\n",
       "      <td>1</td>\n",
       "      <td>Cumings, Mrs. John Bradley (Florence Briggs Th...</td>\n",
       "      <td>female</td>\n",
       "      <td>38.0</td>\n",
       "      <td>1</td>\n",
       "      <td>0</td>\n",
       "      <td>PC 17599</td>\n",
       "      <td>71.2833</td>\n",
       "      <td>C85</td>\n",
       "      <td>C</td>\n",
       "    </tr>\n",
       "    <tr>\n",
       "      <th>2</th>\n",
       "      <td>3</td>\n",
       "      <td>1</td>\n",
       "      <td>3</td>\n",
       "      <td>Heikkinen, Miss. Laina</td>\n",
       "      <td>female</td>\n",
       "      <td>26.0</td>\n",
       "      <td>0</td>\n",
       "      <td>0</td>\n",
       "      <td>STON/O2. 3101282</td>\n",
       "      <td>7.9250</td>\n",
       "      <td>NaN</td>\n",
       "      <td>S</td>\n",
       "    </tr>\n",
       "    <tr>\n",
       "      <th>3</th>\n",
       "      <td>4</td>\n",
       "      <td>1</td>\n",
       "      <td>1</td>\n",
       "      <td>Futrelle, Mrs. Jacques Heath (Lily May Peel)</td>\n",
       "      <td>female</td>\n",
       "      <td>35.0</td>\n",
       "      <td>1</td>\n",
       "      <td>0</td>\n",
       "      <td>113803</td>\n",
       "      <td>53.1000</td>\n",
       "      <td>C123</td>\n",
       "      <td>S</td>\n",
       "    </tr>\n",
       "    <tr>\n",
       "      <th>4</th>\n",
       "      <td>5</td>\n",
       "      <td>0</td>\n",
       "      <td>3</td>\n",
       "      <td>Allen, Mr. William Henry</td>\n",
       "      <td>male</td>\n",
       "      <td>35.0</td>\n",
       "      <td>0</td>\n",
       "      <td>0</td>\n",
       "      <td>373450</td>\n",
       "      <td>8.0500</td>\n",
       "      <td>NaN</td>\n",
       "      <td>S</td>\n",
       "    </tr>\n",
       "    <tr>\n",
       "      <th>...</th>\n",
       "      <td>...</td>\n",
       "      <td>...</td>\n",
       "      <td>...</td>\n",
       "      <td>...</td>\n",
       "      <td>...</td>\n",
       "      <td>...</td>\n",
       "      <td>...</td>\n",
       "      <td>...</td>\n",
       "      <td>...</td>\n",
       "      <td>...</td>\n",
       "      <td>...</td>\n",
       "      <td>...</td>\n",
       "    </tr>\n",
       "    <tr>\n",
       "      <th>886</th>\n",
       "      <td>887</td>\n",
       "      <td>0</td>\n",
       "      <td>2</td>\n",
       "      <td>Montvila, Rev. Juozas</td>\n",
       "      <td>male</td>\n",
       "      <td>27.0</td>\n",
       "      <td>0</td>\n",
       "      <td>0</td>\n",
       "      <td>211536</td>\n",
       "      <td>13.0000</td>\n",
       "      <td>NaN</td>\n",
       "      <td>S</td>\n",
       "    </tr>\n",
       "    <tr>\n",
       "      <th>887</th>\n",
       "      <td>888</td>\n",
       "      <td>1</td>\n",
       "      <td>1</td>\n",
       "      <td>Graham, Miss. Margaret Edith</td>\n",
       "      <td>female</td>\n",
       "      <td>19.0</td>\n",
       "      <td>0</td>\n",
       "      <td>0</td>\n",
       "      <td>112053</td>\n",
       "      <td>30.0000</td>\n",
       "      <td>B42</td>\n",
       "      <td>S</td>\n",
       "    </tr>\n",
       "    <tr>\n",
       "      <th>888</th>\n",
       "      <td>889</td>\n",
       "      <td>0</td>\n",
       "      <td>3</td>\n",
       "      <td>Johnston, Miss. Catherine Helen \"Carrie\"</td>\n",
       "      <td>female</td>\n",
       "      <td>NaN</td>\n",
       "      <td>1</td>\n",
       "      <td>2</td>\n",
       "      <td>W./C. 6607</td>\n",
       "      <td>23.4500</td>\n",
       "      <td>NaN</td>\n",
       "      <td>S</td>\n",
       "    </tr>\n",
       "    <tr>\n",
       "      <th>889</th>\n",
       "      <td>890</td>\n",
       "      <td>1</td>\n",
       "      <td>1</td>\n",
       "      <td>Behr, Mr. Karl Howell</td>\n",
       "      <td>male</td>\n",
       "      <td>26.0</td>\n",
       "      <td>0</td>\n",
       "      <td>0</td>\n",
       "      <td>111369</td>\n",
       "      <td>30.0000</td>\n",
       "      <td>C148</td>\n",
       "      <td>C</td>\n",
       "    </tr>\n",
       "    <tr>\n",
       "      <th>890</th>\n",
       "      <td>891</td>\n",
       "      <td>0</td>\n",
       "      <td>3</td>\n",
       "      <td>Dooley, Mr. Patrick</td>\n",
       "      <td>male</td>\n",
       "      <td>32.0</td>\n",
       "      <td>0</td>\n",
       "      <td>0</td>\n",
       "      <td>370376</td>\n",
       "      <td>7.7500</td>\n",
       "      <td>NaN</td>\n",
       "      <td>Q</td>\n",
       "    </tr>\n",
       "  </tbody>\n",
       "</table>\n",
       "<p>891 rows × 12 columns</p>\n",
       "</div>"
      ],
      "text/plain": [
       "     PassengerId  Survived  Pclass  \\\n",
       "0              1         0       3   \n",
       "1              2         1       1   \n",
       "2              3         1       3   \n",
       "3              4         1       1   \n",
       "4              5         0       3   \n",
       "..           ...       ...     ...   \n",
       "886          887         0       2   \n",
       "887          888         1       1   \n",
       "888          889         0       3   \n",
       "889          890         1       1   \n",
       "890          891         0       3   \n",
       "\n",
       "                                                  Name     Sex   Age  SibSp  \\\n",
       "0                              Braund, Mr. Owen Harris    male  22.0      1   \n",
       "1    Cumings, Mrs. John Bradley (Florence Briggs Th...  female  38.0      1   \n",
       "2                               Heikkinen, Miss. Laina  female  26.0      0   \n",
       "3         Futrelle, Mrs. Jacques Heath (Lily May Peel)  female  35.0      1   \n",
       "4                             Allen, Mr. William Henry    male  35.0      0   \n",
       "..                                                 ...     ...   ...    ...   \n",
       "886                              Montvila, Rev. Juozas    male  27.0      0   \n",
       "887                       Graham, Miss. Margaret Edith  female  19.0      0   \n",
       "888           Johnston, Miss. Catherine Helen \"Carrie\"  female   NaN      1   \n",
       "889                              Behr, Mr. Karl Howell    male  26.0      0   \n",
       "890                                Dooley, Mr. Patrick    male  32.0      0   \n",
       "\n",
       "     Parch            Ticket     Fare Cabin Embarked  \n",
       "0        0         A/5 21171   7.2500   NaN        S  \n",
       "1        0          PC 17599  71.2833   C85        C  \n",
       "2        0  STON/O2. 3101282   7.9250   NaN        S  \n",
       "3        0            113803  53.1000  C123        S  \n",
       "4        0            373450   8.0500   NaN        S  \n",
       "..     ...               ...      ...   ...      ...  \n",
       "886      0            211536  13.0000   NaN        S  \n",
       "887      0            112053  30.0000   B42        S  \n",
       "888      2        W./C. 6607  23.4500   NaN        S  \n",
       "889      0            111369  30.0000  C148        C  \n",
       "890      0            370376   7.7500   NaN        Q  \n",
       "\n",
       "[891 rows x 12 columns]"
      ]
     },
     "metadata": {},
     "output_type": "display_data"
    }
   ],
   "source": [
    "titanic_train = pd.read_csv('/kaggle/input/titanic/train.csv')\n",
    "titanic_test = pd.read_csv('/kaggle/input/titanic/test.csv')\n",
    "print(titanic_train.shape)\n",
    "display(titanic_train)\n"
   ]
  },
  {
   "cell_type": "markdown",
   "id": "286d75e8",
   "metadata": {
    "papermill": {
     "duration": 0.016066,
     "end_time": "2022-07-08T21:12:59.556805",
     "exception": false,
     "start_time": "2022-07-08T21:12:59.540739",
     "status": "completed"
    },
    "tags": []
   },
   "source": [
    "We can see that there are 11 features and we are trying to predict the survived column. \n",
    "\n",
    "Some columns like Age and Cabin seem to cointain NaN values which is a problem. We'll have to make sure to remove the corresponding lines.\n",
    "\n",
    "The ticket number doesn't give much information since we already have the fare and the cabin. Thus, we can delete this column.\n",
    "Same goes for the Name column\n",
    "\n",
    "We'll use one-hot vectors for Sex and Embarked \n",
    "\n",
    "\n",
    "\n"
   ]
  },
  {
   "cell_type": "code",
   "execution_count": 4,
   "id": "d5a1774d",
   "metadata": {
    "execution": {
     "iopub.execute_input": "2022-07-08T21:12:59.591794Z",
     "iopub.status.busy": "2022-07-08T21:12:59.591406Z",
     "iopub.status.idle": "2022-07-08T21:12:59.886283Z",
     "shell.execute_reply": "2022-07-08T21:12:59.884793Z"
    },
    "papermill": {
     "duration": 0.315872,
     "end_time": "2022-07-08T21:12:59.889028",
     "exception": false,
     "start_time": "2022-07-08T21:12:59.573156",
     "status": "completed"
    },
    "tags": []
   },
   "outputs": [
    {
     "data": {
      "text/plain": [
       "Text(0.5, 1.0, 'Survived (binary: yes or no)')"
      ]
     },
     "execution_count": 4,
     "metadata": {},
     "output_type": "execute_result"
    },
    {
     "data": {
      "image/png": "[encoded data removed]",
      "text/plain": [
       "<Figure size 432x432 with 1 Axes>"
      ]
     },
     "metadata": {
      "needs_background": "light"
     },
     "output_type": "display_data"
    }
   ],
   "source": [
    "sns.catplot(x=\"Survived\", kind=\"count\",palette=\"magma\", data=titanic_train, height = 6)\n",
    "plt.title(\"Survived (binary: yes or no)\")"
   ]
  },
  {
   "cell_type": "markdown",
   "id": "15e1523f",
   "metadata": {
    "papermill": {
     "duration": 0.016264,
     "end_time": "2022-07-08T21:12:59.922112",
     "exception": false,
     "start_time": "2022-07-08T21:12:59.905848",
     "status": "completed"
    },
    "tags": []
   },
   "source": [
    "# Data Preparation"
   ]
  },
  {
   "cell_type": "markdown",
   "id": "341db371",
   "metadata": {
    "papermill": {
     "duration": 0.016102,
     "end_time": "2022-07-08T21:12:59.954782",
     "exception": false,
     "start_time": "2022-07-08T21:12:59.938680",
     "status": "completed"
    },
    "tags": []
   },
   "source": [
    "We will build a pipeline so that we can clean our data easily."
   ]
  },
  {
   "cell_type": "code",
   "execution_count": 5,
   "id": "3ac4f18c",
   "metadata": {
    "execution": {
     "iopub.execute_input": "2022-07-08T21:12:59.990619Z",
     "iopub.status.busy": "2022-07-08T21:12:59.990193Z",
     "iopub.status.idle": "2022-07-08T21:12:59.999523Z",
     "shell.execute_reply": "2022-07-08T21:12:59.998295Z"
    },
    "papermill": {
     "duration": 0.030419,
     "end_time": "2022-07-08T21:13:00.001810",
     "exception": false,
     "start_time": "2022-07-08T21:12:59.971391",
     "status": "completed"
    },
    "tags": []
   },
   "outputs": [],
   "source": [
    "#constants\n",
    "features = ['Pclass', 'Name', 'Sex', 'Age', 'SibSp', 'Parch', 'Ticket', 'Fare', 'Cabin', 'Embarked']\n",
    "target = 'Survived'\n",
    "\n",
    "def pipeline(numerical_imputer, numerical_scaler, numerical_features, categorical_imputer, categorical_encoder, categorical_features, estimator):\n",
    "    numerical_transformer = Pipeline(\n",
    "        steps=[\n",
    "            (\"numerical_imputer\", numerical_imputer),\n",
    "            (\"numerical_scaler\", numerical_scaler),\n",
    "        ]\n",
    "    )\n",
    "    categorical_transformer = Pipeline(\n",
    "        steps=[\n",
    "            (\"categorical_imputer\", categorical_imputer),\n",
    "            (\"categorical_encoder\", categorical_encoder),\n",
    "        ]\n",
    "    )\n",
    "    preprocessor = ColumnTransformer(\n",
    "        transformers=[\n",
    "            (\"num\", numerical_transformer, numerical_features),\n",
    "            (\"cat\", categorical_transformer, categorical_features),\n",
    "        ]\n",
    "    )\n",
    "    clf = Pipeline( \n",
    "        steps=[(\"preprocessor\", preprocessor), (\"classifier\", estimator)]\n",
    "    )\n",
    "    return clf"
   ]
  },
  {
   "cell_type": "code",
   "execution_count": 6,
   "id": "2bc86491",
   "metadata": {
    "execution": {
     "iopub.execute_input": "2022-07-08T21:13:00.038183Z",
     "iopub.status.busy": "2022-07-08T21:13:00.037400Z",
     "iopub.status.idle": "2022-07-08T21:13:00.044811Z",
     "shell.execute_reply": "2022-07-08T21:13:00.043687Z"
    },
    "papermill": {
     "duration": 0.029349,
     "end_time": "2022-07-08T21:13:00.047715",
     "exception": false,
     "start_time": "2022-07-08T21:13:00.018366",
     "status": "completed"
    },
    "tags": []
   },
   "outputs": [],
   "source": [
    "#parameters of the pipeline\n",
    "random_state = 0\n",
    "numerical_imputer = SimpleImputer(strategy='mean')\n",
    "numerical_scaler = StandardScaler()\n",
    "numerical_features = ['Age', 'Fare']\n",
    "categorical_imputer = SimpleImputer(strategy='most_frequent')\n",
    "categorical_encoder = OneHotEncoder(handle_unknown='ignore')\n",
    "categorical_features = ['Pclass'\n",
    "            , 'Sex'\t\n",
    "            , 'SibSp'\n",
    "            , 'Parch'\n",
    "            , 'Ticket'\n",
    "            , 'Embarked'\n",
    "           ]\n"
   ]
  },
  {
   "cell_type": "code",
   "execution_count": 7,
   "id": "d768d480",
   "metadata": {
    "execution": {
     "iopub.execute_input": "2022-07-08T21:13:00.084079Z",
     "iopub.status.busy": "2022-07-08T21:13:00.083261Z",
     "iopub.status.idle": "2022-07-08T21:13:00.090748Z",
     "shell.execute_reply": "2022-07-08T21:13:00.089770Z"
    },
    "papermill": {
     "duration": 0.028342,
     "end_time": "2022-07-08T21:13:00.093148",
     "exception": false,
     "start_time": "2022-07-08T21:13:00.064806",
     "status": "completed"
    },
    "tags": []
   },
   "outputs": [],
   "source": [
    "X_train = titanic_train[numerical_features + categorical_features]\n",
    "X_test = titanic_test[numerical_features + categorical_features]\n",
    "y_train = titanic_train[target]"
   ]
  },
  {
   "cell_type": "markdown",
   "id": "40bf45d4",
   "metadata": {
    "papermill": {
     "duration": 0.016579,
     "end_time": "2022-07-08T21:13:00.126422",
     "exception": false,
     "start_time": "2022-07-08T21:13:00.109843",
     "status": "completed"
    },
    "tags": []
   },
   "source": [
    "Our baseline will be the result of a Perceptron algorithm"
   ]
  },
  {
   "cell_type": "code",
   "execution_count": 8,
   "id": "029dbbf4",
   "metadata": {
    "execution": {
     "iopub.execute_input": "2022-07-08T21:13:00.161818Z",
     "iopub.status.busy": "2022-07-08T21:13:00.161037Z",
     "iopub.status.idle": "2022-07-08T21:13:00.166497Z",
     "shell.execute_reply": "2022-07-08T21:13:00.165627Z"
    },
    "papermill": {
     "duration": 0.025816,
     "end_time": "2022-07-08T21:13:00.168918",
     "exception": false,
     "start_time": "2022-07-08T21:13:00.143102",
     "status": "completed"
    },
    "tags": []
   },
   "outputs": [],
   "source": [
    "estimator = Perceptron(random_state = random_state)"
   ]
  },
  {
   "cell_type": "code",
   "execution_count": 9,
   "id": "efc419e6",
   "metadata": {
    "execution": {
     "iopub.execute_input": "2022-07-08T21:13:00.204896Z",
     "iopub.status.busy": "2022-07-08T21:13:00.204102Z",
     "iopub.status.idle": "2022-07-08T21:13:00.210246Z",
     "shell.execute_reply": "2022-07-08T21:13:00.209325Z"
    },
    "papermill": {
     "duration": 0.026675,
     "end_time": "2022-07-08T21:13:00.212702",
     "exception": false,
     "start_time": "2022-07-08T21:13:00.186027",
     "status": "completed"
    },
    "tags": []
   },
   "outputs": [],
   "source": [
    "model = pipeline(numerical_imputer = numerical_imputer\n",
    "                 , numerical_scaler = numerical_scaler\n",
    "                 , numerical_features = numerical_features  \n",
    "                 , categorical_imputer = categorical_imputer\n",
    "                 , categorical_encoder = categorical_encoder\n",
    "                 , categorical_features = categorical_features\n",
    "                 , estimator = estimator)"
   ]
  },
  {
   "cell_type": "code",
   "execution_count": 10,
   "id": "87a6df73",
   "metadata": {
    "execution": {
     "iopub.execute_input": "2022-07-08T21:13:00.248487Z",
     "iopub.status.busy": "2022-07-08T21:13:00.247735Z",
     "iopub.status.idle": "2022-07-08T21:13:00.324343Z",
     "shell.execute_reply": "2022-07-08T21:13:00.323193Z"
    },
    "papermill": {
     "duration": 0.097786,
     "end_time": "2022-07-08T21:13:00.327055",
     "exception": false,
     "start_time": "2022-07-08T21:13:00.229269",
     "status": "completed"
    },
    "tags": []
   },
   "outputs": [
    {
     "data": {
      "text/html": [
       "<style>#sk-5e04c04b-40e7-484f-b156-43fdc2d63ab0 {color: black;background-color: white;}#sk-5e04c04b-40e7-484f-b156-43fdc2d63ab0 pre{padding: 0;}#sk-5e04c04b-40e7-484f-b156-43fdc2d63ab0 div.sk-toggleable {background-color: white;}#sk-5e04c04b-40e7-484f-b156-43fdc2d63ab0 label.sk-toggleable__label {cursor: pointer;display: block;width: 100%;margin-bottom: 0;padding: 0.3em;box-sizing: border-box;text-align: center;}#sk-5e04c04b-40e7-484f-b156-43fdc2d63ab0 label.sk-toggleable__label-arrow:before {content: \"▸\";float: left;margin-right: 0.25em;color: #696969;}#sk-5e04c04b-40e7-484f-b156-43fdc2d63ab0 label.sk-toggleable__label-arrow:hover:before {color: black;}#sk-5e04c04b-40e7-484f-b156-43fdc2d63ab0 div.sk-estimator:hover label.sk-toggleable__label-arrow:before {color: black;}#sk-5e04c04b-40e7-484f-b156-43fdc2d63ab0 div.sk-toggleable__content {max-height: 0;max-width: 0;overflow: hidden;text-align: left;background-color: #f0f8ff;}#sk-5e04c04b-40e7-484f-b156-43fdc2d63ab0 div.sk-toggleable__content pre {margin: 0.2em;color: black;border-radius: 0.25em;background-color: #f0f8ff;}#sk-5e04c04b-40e7-484f-b156-43fdc2d63ab0 input.sk-toggleable__control:checked~div.sk-toggleable__content {max-height: 200px;max-width: 100%;overflow: auto;}#sk-5e04c04b-40e7-484f-b156-43fdc2d63ab0 input.sk-toggleable__control:checked~label.sk-toggleable__label-arrow:before {content: \"▾\";}#sk-5e04c04b-40e7-484f-b156-43fdc2d63ab0 div.sk-estimator input.sk-toggleable__control:checked~label.sk-toggleable__label {background-color: #d4ebff;}#sk-5e04c04b-40e7-484f-b156-43fdc2d63ab0 div.sk-label input.sk-toggleable__control:checked~label.sk-toggleable__label {background-color: #d4ebff;}#sk-5e04c04b-40e7-484f-b156-43fdc2d63ab0 input.sk-hidden--visually {border: 0;clip: rect(1px 1px 1px 1px);clip: rect(1px, 1px, 1px, 1px);height: 1px;margin: -1px;overflow: hidden;padding: 0;position: absolute;width: 1px;}#sk-5e04c04b-40e7-484f-b156-43fdc2d63ab0 div.sk-estimator {font-family: monospace;background-color: #f0f8ff;border: 1px dotted black;border-radius: 0.25em;box-sizing: border-box;margin-bottom: 0.5em;}#sk-5e04c04b-40e7-484f-b156-43fdc2d63ab0 div.sk-estimator:hover {background-color: #d4ebff;}#sk-5e04c04b-40e7-484f-b156-43fdc2d63ab0 div.sk-parallel-item::after {content: \"\";width: 100%;border-bottom: 1px solid gray;flex-grow: 1;}#sk-5e04c04b-40e7-484f-b156-43fdc2d63ab0 div.sk-label:hover label.sk-toggleable__label {background-color: #d4ebff;}#sk-5e04c04b-40e7-484f-b156-43fdc2d63ab0 div.sk-serial::before {content: \"\";position: absolute;border-left: 1px solid gray;box-sizing: border-box;top: 2em;bottom: 0;left: 50%;}#sk-5e04c04b-40e7-484f-b156-43fdc2d63ab0 div.sk-serial {display: flex;flex-direction: column;align-items: center;background-color: white;padding-right: 0.2em;padding-left: 0.2em;}#sk-5e04c04b-40e7-484f-b156-43fdc2d63ab0 div.sk-item {z-index: 1;}#sk-5e04c04b-40e7-484f-b156-43fdc2d63ab0 div.sk-parallel {display: flex;align-items: stretch;justify-content: center;background-color: white;}#sk-5e04c04b-40e7-484f-b156-43fdc2d63ab0 div.sk-parallel::before {content: \"\";position: absolute;border-left: 1px solid gray;box-sizing: border-box;top: 2em;bottom: 0;left: 50%;}#sk-5e04c04b-40e7-484f-b156-43fdc2d63ab0 div.sk-parallel-item {display: flex;flex-direction: column;position: relative;background-color: white;}#sk-5e04c04b-40e7-484f-b156-43fdc2d63ab0 div.sk-parallel-item:first-child::after {align-self: flex-end;width: 50%;}#sk-5e04c04b-40e7-484f-b156-43fdc2d63ab0 div.sk-parallel-item:last-child::after {align-self: flex-start;width: 50%;}#sk-5e04c04b-40e7-484f-b156-43fdc2d63ab0 div.sk-parallel-item:only-child::after {width: 0;}#sk-5e04c04b-40e7-484f-b156-43fdc2d63ab0 div.sk-dashed-wrapped {border: 1px dashed gray;margin: 0 0.4em 0.5em 0.4em;box-sizing: border-box;padding-bottom: 0.4em;background-color: white;position: relative;}#sk-5e04c04b-40e7-484f-b156-43fdc2d63ab0 div.sk-label label {font-family: monospace;font-weight: bold;background-color: white;display: inline-block;line-height: 1.2em;}#sk-5e04c04b-40e7-484f-b156-43fdc2d63ab0 div.sk-label-container {position: relative;z-index: 2;text-align: center;}#sk-5e04c04b-40e7-484f-b156-43fdc2d63ab0 div.sk-container {/* jupyter's `normalize.less` sets `[hidden] { display: none; }` but bootstrap.min.css set `[hidden] { display: none !important; }` so we also need the `!important` here to be able to override the default hidden behavior on the sphinx rendered scikit-learn.org. See: https://github.com/scikit-learn/scikit-learn/issues/21755 */display: inline-block !important;position: relative;}#sk-5e04c04b-40e7-484f-b156-43fdc2d63ab0 div.sk-text-repr-fallback {display: none;}</style><div id=\"sk-5e04c04b-40e7-484f-b156-43fdc2d63ab0\" class=\"sk-top-container\"><div class=\"sk-text-repr-fallback\"><pre>Pipeline(steps=[(&#x27;preprocessor&#x27;,\n",
       "                 ColumnTransformer(transformers=[(&#x27;num&#x27;,\n",
       "                                                  Pipeline(steps=[(&#x27;numerical_imputer&#x27;,\n",
       "                                                                   SimpleImputer()),\n",
       "                                                                  (&#x27;numerical_scaler&#x27;,\n",
       "                                                                   StandardScaler())]),\n",
       "                                                  [&#x27;Age&#x27;, &#x27;Fare&#x27;]),\n",
       "                                                 (&#x27;cat&#x27;,\n",
       "                                                  Pipeline(steps=[(&#x27;categorical_imputer&#x27;,\n",
       "                                                                   SimpleImputer(strategy=&#x27;most_frequent&#x27;)),\n",
       "                                                                  (&#x27;categorical_encoder&#x27;,\n",
       "                                                                   OneHotEncoder(handle_unknown=&#x27;ignore&#x27;))]),\n",
       "                                                  [&#x27;Pclass&#x27;, &#x27;Sex&#x27;, &#x27;SibSp&#x27;,\n",
       "                                                   &#x27;Parch&#x27;, &#x27;Ticket&#x27;,\n",
       "                                                   &#x27;Embarked&#x27;])])),\n",
       "                (&#x27;classifier&#x27;, Perceptron())])</pre><b>Please rerun this cell to show the HTML repr or trust the notebook.</b></div><div class=\"sk-container\" hidden><div class=\"sk-item sk-dashed-wrapped\"><div class=\"sk-label-container\"><div class=\"sk-label sk-toggleable\"><input class=\"sk-toggleable__control sk-hidden--visually\" id=\"e66773e4-eaf6-4d69-9291-f4771790b4ee\" type=\"checkbox\" ><label for=\"e66773e4-eaf6-4d69-9291-f4771790b4ee\" class=\"sk-toggleable__label sk-toggleable__label-arrow\">Pipeline</label><div class=\"sk-toggleable__content\"><pre>Pipeline(steps=[(&#x27;preprocessor&#x27;,\n",
       "                 ColumnTransformer(transformers=[(&#x27;num&#x27;,\n",
       "                                                  Pipeline(steps=[(&#x27;numerical_imputer&#x27;,\n",
       "                                                                   SimpleImputer()),\n",
       "                                                                  (&#x27;numerical_scaler&#x27;,\n",
       "                                                                   StandardScaler())]),\n",
       "                                                  [&#x27;Age&#x27;, &#x27;Fare&#x27;]),\n",
       "                                                 (&#x27;cat&#x27;,\n",
       "                                                  Pipeline(steps=[(&#x27;categorical_imputer&#x27;,\n",
       "                                                                   SimpleImputer(strategy=&#x27;most_frequent&#x27;)),\n",
       "                                                                  (&#x27;categorical_encoder&#x27;,\n",
       "                                                                   OneHotEncoder(handle_unknown=&#x27;ignore&#x27;))]),\n",
       "                                                  [&#x27;Pclass&#x27;, &#x27;Sex&#x27;, &#x27;SibSp&#x27;,\n",
       "                                                   &#x27;Parch&#x27;, &#x27;Ticket&#x27;,\n",
       "                                                   &#x27;Embarked&#x27;])])),\n",
       "                (&#x27;classifier&#x27;, Perceptron())])</pre></div></div></div><div class=\"sk-serial\"><div class=\"sk-item sk-dashed-wrapped\"><div class=\"sk-label-container\"><div class=\"sk-label sk-toggleable\"><input class=\"sk-toggleable__control sk-hidden--visually\" id=\"ad4671ac-f840-4899-a93f-7fe8b038847c\" type=\"checkbox\" ><label for=\"ad4671ac-f840-4899-a93f-7fe8b038847c\" class=\"sk-toggleable__label sk-toggleable__label-arrow\">preprocessor: ColumnTransformer</label><div class=\"sk-toggleable__content\"><pre>ColumnTransformer(transformers=[(&#x27;num&#x27;,\n",
       "                                 Pipeline(steps=[(&#x27;numerical_imputer&#x27;,\n",
       "                                                  SimpleImputer()),\n",
       "                                                 (&#x27;numerical_scaler&#x27;,\n",
       "                                                  StandardScaler())]),\n",
       "                                 [&#x27;Age&#x27;, &#x27;Fare&#x27;]),\n",
       "                                (&#x27;cat&#x27;,\n",
       "                                 Pipeline(steps=[(&#x27;categorical_imputer&#x27;,\n",
       "                                                  SimpleImputer(strategy=&#x27;most_frequent&#x27;)),\n",
       "                                                 (&#x27;categorical_encoder&#x27;,\n",
       "                                                  OneHotEncoder(handle_unknown=&#x27;ignore&#x27;))]),\n",
       "                                 [&#x27;Pclass&#x27;, &#x27;Sex&#x27;, &#x27;SibSp&#x27;, &#x27;Parch&#x27;, &#x27;Ticket&#x27;,\n",
       "                                  &#x27;Embarked&#x27;])])</pre></div></div></div><div class=\"sk-parallel\"><div class=\"sk-parallel-item\"><div class=\"sk-item\"><div class=\"sk-label-container\"><div class=\"sk-label sk-toggleable\"><input class=\"sk-toggleable__control sk-hidden--visually\" id=\"bdbea7a0-c709-43ed-8b30-e3178b89f7ba\" type=\"checkbox\" ><label for=\"bdbea7a0-c709-43ed-8b30-e3178b89f7ba\" class=\"sk-toggleable__label sk-toggleable__label-arrow\">num</label><div class=\"sk-toggleable__content\"><pre>[&#x27;Age&#x27;, &#x27;Fare&#x27;]</pre></div></div></div><div class=\"sk-serial\"><div class=\"sk-item\"><div class=\"sk-serial\"><div class=\"sk-item\"><div class=\"sk-estimator sk-toggleable\"><input class=\"sk-toggleable__control sk-hidden--visually\" id=\"def98777-bbde-45a7-b97c-d3db8b6ee3b2\" type=\"checkbox\" ><label for=\"def98777-bbde-45a7-b97c-d3db8b6ee3b2\" class=\"sk-toggleable__label sk-toggleable__label-arrow\">SimpleImputer</label><div class=\"sk-toggleable__content\"><pre>SimpleImputer()</pre></div></div></div><div class=\"sk-item\"><div class=\"sk-estimator sk-toggleable\"><input class=\"sk-toggleable__control sk-hidden--visually\" id=\"fd0d8c9c-85b9-4cd1-ada7-5788b1fd4dab\" type=\"checkbox\" ><label for=\"fd0d8c9c-85b9-4cd1-ada7-5788b1fd4dab\" class=\"sk-toggleable__label sk-toggleable__label-arrow\">StandardScaler</label><div class=\"sk-toggleable__content\"><pre>StandardScaler()</pre></div></div></div></div></div></div></div></div><div class=\"sk-parallel-item\"><div class=\"sk-item\"><div class=\"sk-label-container\"><div class=\"sk-label sk-toggleable\"><input class=\"sk-toggleable__control sk-hidden--visually\" id=\"2e4cab8b-861d-47ac-9f32-e76088f8148d\" type=\"checkbox\" ><label for=\"2e4cab8b-861d-47ac-9f32-e76088f8148d\" class=\"sk-toggleable__label sk-toggleable__label-arrow\">cat</label><div class=\"sk-toggleable__content\"><pre>[&#x27;Pclass&#x27;, &#x27;Sex&#x27;, &#x27;SibSp&#x27;, &#x27;Parch&#x27;, &#x27;Ticket&#x27;, &#x27;Embarked&#x27;]</pre></div></div></div><div class=\"sk-serial\"><div class=\"sk-item\"><div class=\"sk-serial\"><div class=\"sk-item\"><div class=\"sk-estimator sk-toggleable\"><input class=\"sk-toggleable__control sk-hidden--visually\" id=\"a954c992-0631-4609-a690-83ce728a6cd9\" type=\"checkbox\" ><label for=\"a954c992-0631-4609-a690-83ce728a6cd9\" class=\"sk-toggleable__label sk-toggleable__label-arrow\">SimpleImputer</label><div class=\"sk-toggleable__content\"><pre>SimpleImputer(strategy=&#x27;most_frequent&#x27;)</pre></div></div></div><div class=\"sk-item\"><div class=\"sk-estimator sk-toggleable\"><input class=\"sk-toggleable__control sk-hidden--visually\" id=\"80c609c2-ae02-4d55-ae29-fbb5d3f0c975\" type=\"checkbox\" ><label for=\"80c609c2-ae02-4d55-ae29-fbb5d3f0c975\" class=\"sk-toggleable__label sk-toggleable__label-arrow\">OneHotEncoder</label><div class=\"sk-toggleable__content\"><pre>OneHotEncoder(handle_unknown=&#x27;ignore&#x27;)</pre></div></div></div></div></div></div></div></div></div></div><div class=\"sk-item\"><div class=\"sk-estimator sk-toggleable\"><input class=\"sk-toggleable__control sk-hidden--visually\" id=\"d4fd69af-0b96-4981-980e-60ad1dd23a0a\" type=\"checkbox\" ><label for=\"d4fd69af-0b96-4981-980e-60ad1dd23a0a\" class=\"sk-toggleable__label sk-toggleable__label-arrow\">Perceptron</label><div class=\"sk-toggleable__content\"><pre>Perceptron()</pre></div></div></div></div></div></div></div>"
      ],
      "text/plain": [
       "Pipeline(steps=[('preprocessor',\n",
       "                 ColumnTransformer(transformers=[('num',\n",
       "                                                  Pipeline(steps=[('numerical_imputer',\n",
       "                                                                   SimpleImputer()),\n",
       "                                                                  ('numerical_scaler',\n",
       "                                                                   StandardScaler())]),\n",
       "                                                  ['Age', 'Fare']),\n",
       "                                                 ('cat',\n",
       "                                                  Pipeline(steps=[('categorical_imputer',\n",
       "                                                                   SimpleImputer(strategy='most_frequent')),\n",
       "                                                                  ('categorical_encoder',\n",
       "                                                                   OneHotEncoder(handle_unknown='ignore'))]),\n",
       "                                                  ['Pclass', 'Sex', 'SibSp',\n",
       "                                                   'Parch', 'Ticket',\n",
       "                                                   'Embarked'])])),\n",
       "                ('classifier', Perceptron())])"
      ]
     },
     "execution_count": 10,
     "metadata": {},
     "output_type": "execute_result"
    }
   ],
   "source": [
    "set_config(display=\"diagram\")\n",
    "model"
   ]
  },
  {
   "cell_type": "code",
   "execution_count": 11,
   "id": "df6fe551",
   "metadata": {
    "execution": {
     "iopub.execute_input": "2022-07-08T21:13:00.363489Z",
     "iopub.status.busy": "2022-07-08T21:13:00.363077Z",
     "iopub.status.idle": "2022-07-08T21:13:00.684065Z",
     "shell.execute_reply": "2022-07-08T21:13:00.682863Z"
    },
    "papermill": {
     "duration": 0.343676,
     "end_time": "2022-07-08T21:13:00.687698",
     "exception": false,
     "start_time": "2022-07-08T21:13:00.344022",
     "status": "completed"
    },
    "tags": []
   },
   "outputs": [
    {
     "name": "stdout",
     "output_type": "stream",
     "text": [
      "Average CV score: 0.8058426966292135\n"
     ]
    }
   ],
   "source": [
    "scores = cross_val_score(model, X_train, y_train, cv=10)\n",
    "print(\"Average CV score:\", scores.mean())"
   ]
  },
  {
   "cell_type": "code",
   "execution_count": 12,
   "id": "58826bb0",
   "metadata": {
    "execution": {
     "iopub.execute_input": "2022-07-08T21:13:00.725348Z",
     "iopub.status.busy": "2022-07-08T21:13:00.724927Z",
     "iopub.status.idle": "2022-07-08T21:13:00.975398Z",
     "shell.execute_reply": "2022-07-08T21:13:00.973712Z"
    },
    "papermill": {
     "duration": 0.272535,
     "end_time": "2022-07-08T21:13:00.978067",
     "exception": false,
     "start_time": "2022-07-08T21:13:00.705532",
     "status": "completed"
    },
    "tags": []
   },
   "outputs": [
    {
     "data": {
      "image/png": "[encoded data removed]",
      "text/plain": [
       "<Figure size 432x288 with 2 Axes>"
      ]
     },
     "metadata": {
      "needs_background": "light"
     },
     "output_type": "display_data"
    }
   ],
   "source": [
    "model.fit(X_train, y_train)\n",
    "Y_train_pred = model.predict(X_train)\n",
    "\n",
    "from sklearn.metrics import ConfusionMatrixDisplay\n",
    "\n",
    "ConfusionMatrixDisplay.from_predictions(y_train, Y_train_pred)\n",
    "plt.title('Confusion matrix for training set' )\n",
    "plt.show()\n"
   ]
  },
  {
   "cell_type": "markdown",
   "id": "ad17368a",
   "metadata": {
    "papermill": {
     "duration": 0.018398,
     "end_time": "2022-07-08T21:13:01.014394",
     "exception": false,
     "start_time": "2022-07-08T21:13:00.995996",
     "status": "completed"
    },
    "tags": []
   },
   "source": [
    "Let's try another model using, XGBoost :"
   ]
  },
  {
   "cell_type": "code",
   "execution_count": 13,
   "id": "31e60961",
   "metadata": {
    "execution": {
     "iopub.execute_input": "2022-07-08T21:13:01.052068Z",
     "iopub.status.busy": "2022-07-08T21:13:01.051379Z",
     "iopub.status.idle": "2022-07-08T21:13:01.057302Z",
     "shell.execute_reply": "2022-07-08T21:13:01.056361Z"
    },
    "papermill": {
     "duration": 0.027564,
     "end_time": "2022-07-08T21:13:01.059760",
     "exception": false,
     "start_time": "2022-07-08T21:13:01.032196",
     "status": "completed"
    },
    "tags": []
   },
   "outputs": [],
   "source": [
    "estimator = GradientBoostingClassifier(random_state = random_state)\n",
    "model = pipeline(numerical_imputer = numerical_imputer\n",
    "                 , numerical_scaler = numerical_scaler\n",
    "                 , numerical_features = numerical_features  \n",
    "                 , categorical_imputer = categorical_imputer\n",
    "                 , categorical_encoder = categorical_encoder\n",
    "                 , categorical_features = categorical_features\n",
    "                 , estimator = estimator)"
   ]
  },
  {
   "cell_type": "code",
   "execution_count": 14,
   "id": "aa16daab",
   "metadata": {
    "execution": {
     "iopub.execute_input": "2022-07-08T21:13:01.097822Z",
     "iopub.status.busy": "2022-07-08T21:13:01.096829Z",
     "iopub.status.idle": "2022-07-08T21:13:02.978246Z",
     "shell.execute_reply": "2022-07-08T21:13:02.976962Z"
    },
    "papermill": {
     "duration": 1.902927,
     "end_time": "2022-07-08T21:13:02.980735",
     "exception": false,
     "start_time": "2022-07-08T21:13:01.077808",
     "status": "completed"
    },
    "tags": []
   },
   "outputs": [
    {
     "name": "stdout",
     "output_type": "stream",
     "text": [
      "Average CV score: 0.8148439450686642\n"
     ]
    }
   ],
   "source": [
    "scores = cross_val_score(model, X_train, y_train, cv=10)\n",
    "print(\"Average CV score:\", scores.mean())"
   ]
  },
  {
   "cell_type": "code",
   "execution_count": 15,
   "id": "a906e431",
   "metadata": {
    "execution": {
     "iopub.execute_input": "2022-07-08T21:13:03.019956Z",
     "iopub.status.busy": "2022-07-08T21:13:03.018464Z",
     "iopub.status.idle": "2022-07-08T21:13:03.443129Z",
     "shell.execute_reply": "2022-07-08T21:13:03.441832Z"
    },
    "papermill": {
     "duration": 0.447357,
     "end_time": "2022-07-08T21:13:03.445888",
     "exception": false,
     "start_time": "2022-07-08T21:13:02.998531",
     "status": "completed"
    },
    "tags": []
   },
   "outputs": [
    {
     "data": {
      "image/png": "[encoded data removed]",
      "text/plain": [
       "<Figure size 432x288 with 2 Axes>"
      ]
     },
     "metadata": {
      "needs_background": "light"
     },
     "output_type": "display_data"
    }
   ],
   "source": [
    "model.fit(X_train, y_train)\n",
    "Y_train_pred = model.predict(X_train)\n",
    "\n",
    "from sklearn.metrics import ConfusionMatrixDisplay\n",
    "\n",
    "ConfusionMatrixDisplay.from_predictions(y_train, Y_train_pred)\n",
    "plt.title('Confusion matrix for training set' )\n",
    "plt.show()\n"
   ]
  },
  {
   "cell_type": "code",
   "execution_count": 16,
   "id": "626479ac",
   "metadata": {
    "execution": {
     "iopub.execute_input": "2022-07-08T21:13:03.486444Z",
     "iopub.status.busy": "2022-07-08T21:13:03.486054Z",
     "iopub.status.idle": "2022-07-08T21:13:03.532627Z",
     "shell.execute_reply": "2022-07-08T21:13:03.531450Z"
    },
    "papermill": {
     "duration": 0.070483,
     "end_time": "2022-07-08T21:13:03.535378",
     "exception": false,
     "start_time": "2022-07-08T21:13:03.464895",
     "status": "completed"
    },
    "tags": []
   },
   "outputs": [
    {
     "data": {
      "text/html": [
       "<div>\n",
       "<style scoped>\n",
       "    .dataframe tbody tr th:only-of-type {\n",
       "        vertical-align: middle;\n",
       "    }\n",
       "\n",
       "    .dataframe tbody tr th {\n",
       "        vertical-align: top;\n",
       "    }\n",
       "\n",
       "    .dataframe thead th {\n",
       "        text-align: right;\n",
       "    }\n",
       "</style>\n",
       "<table border=\"1\" class=\"dataframe\">\n",
       "  <thead>\n",
       "    <tr style=\"text-align: right;\">\n",
       "      <th></th>\n",
       "      <th>Age</th>\n",
       "      <th>Fare</th>\n",
       "      <th>Pclass</th>\n",
       "      <th>Sex</th>\n",
       "      <th>SibSp</th>\n",
       "      <th>Parch</th>\n",
       "      <th>Ticket</th>\n",
       "      <th>Embarked</th>\n",
       "    </tr>\n",
       "  </thead>\n",
       "  <tbody>\n",
       "    <tr>\n",
       "      <th>0</th>\n",
       "      <td>34.5</td>\n",
       "      <td>7.8292</td>\n",
       "      <td>3</td>\n",
       "      <td>male</td>\n",
       "      <td>0</td>\n",
       "      <td>0</td>\n",
       "      <td>330911</td>\n",
       "      <td>Q</td>\n",
       "    </tr>\n",
       "    <tr>\n",
       "      <th>1</th>\n",
       "      <td>47.0</td>\n",
       "      <td>7.0000</td>\n",
       "      <td>3</td>\n",
       "      <td>female</td>\n",
       "      <td>1</td>\n",
       "      <td>0</td>\n",
       "      <td>363272</td>\n",
       "      <td>S</td>\n",
       "    </tr>\n",
       "    <tr>\n",
       "      <th>2</th>\n",
       "      <td>62.0</td>\n",
       "      <td>9.6875</td>\n",
       "      <td>2</td>\n",
       "      <td>male</td>\n",
       "      <td>0</td>\n",
       "      <td>0</td>\n",
       "      <td>240276</td>\n",
       "      <td>Q</td>\n",
       "    </tr>\n",
       "    <tr>\n",
       "      <th>3</th>\n",
       "      <td>27.0</td>\n",
       "      <td>8.6625</td>\n",
       "      <td>3</td>\n",
       "      <td>male</td>\n",
       "      <td>0</td>\n",
       "      <td>0</td>\n",
       "      <td>315154</td>\n",
       "      <td>S</td>\n",
       "    </tr>\n",
       "    <tr>\n",
       "      <th>4</th>\n",
       "      <td>22.0</td>\n",
       "      <td>12.2875</td>\n",
       "      <td>3</td>\n",
       "      <td>female</td>\n",
       "      <td>1</td>\n",
       "      <td>1</td>\n",
       "      <td>3101298</td>\n",
       "      <td>S</td>\n",
       "    </tr>\n",
       "    <tr>\n",
       "      <th>...</th>\n",
       "      <td>...</td>\n",
       "      <td>...</td>\n",
       "      <td>...</td>\n",
       "      <td>...</td>\n",
       "      <td>...</td>\n",
       "      <td>...</td>\n",
       "      <td>...</td>\n",
       "      <td>...</td>\n",
       "    </tr>\n",
       "    <tr>\n",
       "      <th>413</th>\n",
       "      <td>NaN</td>\n",
       "      <td>8.0500</td>\n",
       "      <td>3</td>\n",
       "      <td>male</td>\n",
       "      <td>0</td>\n",
       "      <td>0</td>\n",
       "      <td>A.5. 3236</td>\n",
       "      <td>S</td>\n",
       "    </tr>\n",
       "    <tr>\n",
       "      <th>414</th>\n",
       "      <td>39.0</td>\n",
       "      <td>108.9000</td>\n",
       "      <td>1</td>\n",
       "      <td>female</td>\n",
       "      <td>0</td>\n",
       "      <td>0</td>\n",
       "      <td>PC 17758</td>\n",
       "      <td>C</td>\n",
       "    </tr>\n",
       "    <tr>\n",
       "      <th>415</th>\n",
       "      <td>38.5</td>\n",
       "      <td>7.2500</td>\n",
       "      <td>3</td>\n",
       "      <td>male</td>\n",
       "      <td>0</td>\n",
       "      <td>0</td>\n",
       "      <td>SOTON/O.Q. 3101262</td>\n",
       "      <td>S</td>\n",
       "    </tr>\n",
       "    <tr>\n",
       "      <th>416</th>\n",
       "      <td>NaN</td>\n",
       "      <td>8.0500</td>\n",
       "      <td>3</td>\n",
       "      <td>male</td>\n",
       "      <td>0</td>\n",
       "      <td>0</td>\n",
       "      <td>359309</td>\n",
       "      <td>S</td>\n",
       "    </tr>\n",
       "    <tr>\n",
       "      <th>417</th>\n",
       "      <td>NaN</td>\n",
       "      <td>22.3583</td>\n",
       "      <td>3</td>\n",
       "      <td>male</td>\n",
       "      <td>1</td>\n",
       "      <td>1</td>\n",
       "      <td>2668</td>\n",
       "      <td>C</td>\n",
       "    </tr>\n",
       "  </tbody>\n",
       "</table>\n",
       "<p>418 rows × 8 columns</p>\n",
       "</div>"
      ],
      "text/plain": [
       "      Age      Fare  Pclass     Sex  SibSp  Parch              Ticket Embarked\n",
       "0    34.5    7.8292       3    male      0      0              330911        Q\n",
       "1    47.0    7.0000       3  female      1      0              363272        S\n",
       "2    62.0    9.6875       2    male      0      0              240276        Q\n",
       "3    27.0    8.6625       3    male      0      0              315154        S\n",
       "4    22.0   12.2875       3  female      1      1             3101298        S\n",
       "..    ...       ...     ...     ...    ...    ...                 ...      ...\n",
       "413   NaN    8.0500       3    male      0      0           A.5. 3236        S\n",
       "414  39.0  108.9000       1  female      0      0            PC 17758        C\n",
       "415  38.5    7.2500       3    male      0      0  SOTON/O.Q. 3101262        S\n",
       "416   NaN    8.0500       3    male      0      0              359309        S\n",
       "417   NaN   22.3583       3    male      1      1                2668        C\n",
       "\n",
       "[418 rows x 8 columns]"
      ]
     },
     "metadata": {},
     "output_type": "display_data"
    },
    {
     "data": {
      "text/html": [
       "<div>\n",
       "<style scoped>\n",
       "    .dataframe tbody tr th:only-of-type {\n",
       "        vertical-align: middle;\n",
       "    }\n",
       "\n",
       "    .dataframe tbody tr th {\n",
       "        vertical-align: top;\n",
       "    }\n",
       "\n",
       "    .dataframe thead th {\n",
       "        text-align: right;\n",
       "    }\n",
       "</style>\n",
       "<table border=\"1\" class=\"dataframe\">\n",
       "  <thead>\n",
       "    <tr style=\"text-align: right;\">\n",
       "      <th></th>\n",
       "      <th>Survived</th>\n",
       "    </tr>\n",
       "    <tr>\n",
       "      <th>PassengerId</th>\n",
       "      <th></th>\n",
       "    </tr>\n",
       "  </thead>\n",
       "  <tbody>\n",
       "    <tr>\n",
       "      <th>892</th>\n",
       "      <td>0</td>\n",
       "    </tr>\n",
       "    <tr>\n",
       "      <th>893</th>\n",
       "      <td>0</td>\n",
       "    </tr>\n",
       "    <tr>\n",
       "      <th>894</th>\n",
       "      <td>0</td>\n",
       "    </tr>\n",
       "    <tr>\n",
       "      <th>895</th>\n",
       "      <td>0</td>\n",
       "    </tr>\n",
       "    <tr>\n",
       "      <th>896</th>\n",
       "      <td>0</td>\n",
       "    </tr>\n",
       "    <tr>\n",
       "      <th>...</th>\n",
       "      <td>...</td>\n",
       "    </tr>\n",
       "    <tr>\n",
       "      <th>1305</th>\n",
       "      <td>0</td>\n",
       "    </tr>\n",
       "    <tr>\n",
       "      <th>1306</th>\n",
       "      <td>1</td>\n",
       "    </tr>\n",
       "    <tr>\n",
       "      <th>1307</th>\n",
       "      <td>0</td>\n",
       "    </tr>\n",
       "    <tr>\n",
       "      <th>1308</th>\n",
       "      <td>0</td>\n",
       "    </tr>\n",
       "    <tr>\n",
       "      <th>1309</th>\n",
       "      <td>0</td>\n",
       "    </tr>\n",
       "  </tbody>\n",
       "</table>\n",
       "<p>418 rows × 1 columns</p>\n",
       "</div>"
      ],
      "text/plain": [
       "             Survived\n",
       "PassengerId          \n",
       "892                 0\n",
       "893                 0\n",
       "894                 0\n",
       "895                 0\n",
       "896                 0\n",
       "...               ...\n",
       "1305                0\n",
       "1306                1\n",
       "1307                0\n",
       "1308                0\n",
       "1309                0\n",
       "\n",
       "[418 rows x 1 columns]"
      ]
     },
     "metadata": {},
     "output_type": "display_data"
    }
   ],
   "source": [
    "make_submission()"
   ]
  },
  {
   "cell_type": "markdown",
   "id": "f6e10370",
   "metadata": {
    "papermill": {
     "duration": 0.019328,
     "end_time": "2022-07-08T21:13:03.574030",
     "exception": false,
     "start_time": "2022-07-08T21:13:03.554702",
     "status": "completed"
    },
    "tags": []
   },
   "source": [
    "#First we are going to remove useless columns\n",
    "\n",
    "titanic_train = titanic_train.drop(['Name', 'Ticket'], axis = 1)\n",
    "\n",
    "titanic_test = titanic_test.drop(['Name', 'Ticket'], axis = 1)\n",
    "#Next we remove NaN values.\n",
    "#Let's count them:\n",
    "print(titanic_train.isnull().sum(axis = 0))\n",
    "print(titanic_test.isnull().sum(axis = 0))\n",
    "\n"
   ]
  },
  {
   "cell_type": "code",
   "execution_count": null,
   "id": "51efb809",
   "metadata": {
    "papermill": {
     "duration": 0.018883,
     "end_time": "2022-07-08T21:13:03.611999",
     "exception": false,
     "start_time": "2022-07-08T21:13:03.593116",
     "status": "completed"
    },
    "tags": []
   },
   "outputs": [],
   "source": []
  },
  {
   "cell_type": "markdown",
   "id": "e90436c2",
   "metadata": {
    "papermill": {
     "duration": 0.01839,
     "end_time": "2022-07-08T21:13:03.649609",
     "exception": false,
     "start_time": "2022-07-08T21:13:03.631219",
     "status": "completed"
    },
    "tags": []
   },
   "source": [
    "We can see that there are many missing values for the cabin numbers,we can drop that column.\n",
    "We can also remove the examples for which there is no age."
   ]
  },
  {
   "cell_type": "code",
   "execution_count": 17,
   "id": "9f5cb4b8",
   "metadata": {
    "execution": {
     "iopub.execute_input": "2022-07-08T21:13:03.689626Z",
     "iopub.status.busy": "2022-07-08T21:13:03.688884Z",
     "iopub.status.idle": "2022-07-08T21:13:03.696639Z",
     "shell.execute_reply": "2022-07-08T21:13:03.695450Z"
    },
    "papermill": {
     "duration": 0.030787,
     "end_time": "2022-07-08T21:13:03.698950",
     "exception": false,
     "start_time": "2022-07-08T21:13:03.668163",
     "status": "completed"
    },
    "tags": []
   },
   "outputs": [
    {
     "data": {
      "text/plain": [
       "\"titanic_train = titanic_train.drop(['Cabin'], axis = 1)\\n\\ntitanic_test = titanic_test.drop(['Cabin'], axis = 1)\\n\\n#titanic_train = titanic_train.dropna()\\n#titanic_test = titanic_test.dropna()\\ntitanic_train = titanic_train.fillna(0)\\ntitanic_test = titanic_test.fillna(0)\""
      ]
     },
     "execution_count": 17,
     "metadata": {},
     "output_type": "execute_result"
    }
   ],
   "source": [
    "\"\"\"titanic_train = titanic_train.drop(['Cabin'], axis = 1)\n",
    "\n",
    "titanic_test = titanic_test.drop(['Cabin'], axis = 1)\n",
    "\n",
    "#titanic_train = titanic_train.dropna()\n",
    "#titanic_test = titanic_test.dropna()\n",
    "titanic_train = titanic_train.fillna(0)\n",
    "titanic_test = titanic_test.fillna(0)\"\"\""
   ]
  },
  {
   "cell_type": "markdown",
   "id": "d688162d",
   "metadata": {
    "execution": {
     "iopub.execute_input": "2022-07-08T05:54:56.741344Z",
     "iopub.status.busy": "2022-07-08T05:54:56.740516Z",
     "iopub.status.idle": "2022-07-08T05:54:56.770814Z",
     "shell.execute_reply": "2022-07-08T05:54:56.770104Z",
     "shell.execute_reply.started": "2022-07-08T05:54:56.741316Z"
    },
    "papermill": {
     "duration": 0.018437,
     "end_time": "2022-07-08T21:13:03.736575",
     "exception": false,
     "start_time": "2022-07-08T21:13:03.718138",
     "status": "completed"
    },
    "tags": []
   },
   "source": [
    "### display(titanic_train)\n",
    "display(titanic_test)"
   ]
  },
  {
   "cell_type": "code",
   "execution_count": null,
   "id": "d6b8b152",
   "metadata": {
    "papermill": {
     "duration": 0.018618,
     "end_time": "2022-07-08T21:13:03.774016",
     "exception": false,
     "start_time": "2022-07-08T21:13:03.755398",
     "status": "completed"
    },
    "tags": []
   },
   "outputs": [],
   "source": []
  },
  {
   "cell_type": "markdown",
   "id": "6c4c0e70",
   "metadata": {
    "papermill": {
     "duration": 0.018256,
     "end_time": "2022-07-08T21:13:03.810960",
     "exception": false,
     "start_time": "2022-07-08T21:13:03.792704",
     "status": "completed"
    },
    "tags": []
   },
   "source": [
    "Now we use one-hot encoding for the Sex and Embarked column"
   ]
  },
  {
   "cell_type": "code",
   "execution_count": 18,
   "id": "364d8ba1",
   "metadata": {
    "execution": {
     "iopub.execute_input": "2022-07-08T21:13:03.850416Z",
     "iopub.status.busy": "2022-07-08T21:13:03.849761Z",
     "iopub.status.idle": "2022-07-08T21:13:03.856678Z",
     "shell.execute_reply": "2022-07-08T21:13:03.855592Z"
    },
    "papermill": {
     "duration": 0.02925,
     "end_time": "2022-07-08T21:13:03.858886",
     "exception": false,
     "start_time": "2022-07-08T21:13:03.829636",
     "status": "completed"
    },
    "tags": []
   },
   "outputs": [
    {
     "data": {
      "text/plain": [
       "\"titanic_train = pd.get_dummies(titanic_train,prefix=['Sex', 'Embarked'], columns = ['Sex', 'Embarked'])\\ntitanic_test = pd.get_dummies(titanic_test,prefix=['Sex', 'Embarked'], columns = ['Sex', 'Embarked'])\\ndisplay(titanic_train)\\ndisplay(titanic_test)\\ntitanic_train = titanic_train.drop('Embarked_0', axis=1)\""
      ]
     },
     "execution_count": 18,
     "metadata": {},
     "output_type": "execute_result"
    }
   ],
   "source": [
    "\"\"\"titanic_train = pd.get_dummies(titanic_train,prefix=['Sex', 'Embarked'], columns = ['Sex', 'Embarked'])\n",
    "titanic_test = pd.get_dummies(titanic_test,prefix=['Sex', 'Embarked'], columns = ['Sex', 'Embarked'])\n",
    "display(titanic_train)\n",
    "display(titanic_test)\n",
    "titanic_train = titanic_train.drop('Embarked_0', axis=1)\"\"\""
   ]
  },
  {
   "cell_type": "markdown",
   "id": "7b83a1b3",
   "metadata": {
    "papermill": {
     "duration": 0.018407,
     "end_time": "2022-07-08T21:13:03.895937",
     "exception": false,
     "start_time": "2022-07-08T21:13:03.877530",
     "status": "completed"
    },
    "tags": []
   },
   "source": [
    "Now we can standardize the Fare and Age "
   ]
  },
  {
   "cell_type": "code",
   "execution_count": 19,
   "id": "ace08b70",
   "metadata": {
    "execution": {
     "iopub.execute_input": "2022-07-08T21:13:03.935894Z",
     "iopub.status.busy": "2022-07-08T21:13:03.934933Z",
     "iopub.status.idle": "2022-07-08T21:13:03.941913Z",
     "shell.execute_reply": "2022-07-08T21:13:03.940738Z"
    },
    "papermill": {
     "duration": 0.029853,
     "end_time": "2022-07-08T21:13:03.944441",
     "exception": false,
     "start_time": "2022-07-08T21:13:03.914588",
     "status": "completed"
    },
    "tags": []
   },
   "outputs": [
    {
     "data": {
      "text/plain": [
       "\"from sklearn.preprocessing import StandardScaler\\n\\nscaler = StandardScaler()\\ntitanic_train[['Age', 'Fare']] = scaler.fit_transform(titanic_train[['Age', 'Fare']])\\ntitanic_test[['Age', 'Fare']] = scaler.fit_transform(titanic_test[['Age', 'Fare']])\\ndisplay(titanic_train)\\n\""
      ]
     },
     "execution_count": 19,
     "metadata": {},
     "output_type": "execute_result"
    }
   ],
   "source": [
    "\"\"\"from sklearn.preprocessing import StandardScaler\n",
    "\n",
    "scaler = StandardScaler()\n",
    "titanic_train[['Age', 'Fare']] = scaler.fit_transform(titanic_train[['Age', 'Fare']])\n",
    "titanic_test[['Age', 'Fare']] = scaler.fit_transform(titanic_test[['Age', 'Fare']])\n",
    "display(titanic_train)\n",
    "\"\"\""
   ]
  },
  {
   "cell_type": "markdown",
   "id": "0f914b50",
   "metadata": {
    "papermill": {
     "duration": 0.01916,
     "end_time": "2022-07-08T21:13:03.982989",
     "exception": false,
     "start_time": "2022-07-08T21:13:03.963829",
     "status": "completed"
    },
    "tags": []
   },
   "source": [
    "Let's observe our data by plotting some of the features"
   ]
  },
  {
   "cell_type": "code",
   "execution_count": 20,
   "id": "54d75589",
   "metadata": {
    "execution": {
     "iopub.execute_input": "2022-07-08T21:13:04.025374Z",
     "iopub.status.busy": "2022-07-08T21:13:04.024607Z",
     "iopub.status.idle": "2022-07-08T21:13:04.030982Z",
     "shell.execute_reply": "2022-07-08T21:13:04.030132Z"
    },
    "papermill": {
     "duration": 0.030569,
     "end_time": "2022-07-08T21:13:04.033308",
     "exception": false,
     "start_time": "2022-07-08T21:13:04.002739",
     "status": "completed"
    },
    "tags": []
   },
   "outputs": [
    {
     "data": {
      "text/plain": [
       "'sns.catplot(x=\"Survived\", kind=\"count\",palette=\"magma\", data=titanic_train, height = 6)\\nplt.title(\"Survived (binary: yes or no)\")'"
      ]
     },
     "execution_count": 20,
     "metadata": {},
     "output_type": "execute_result"
    }
   ],
   "source": [
    "\"\"\"sns.catplot(x=\"Survived\", kind=\"count\",palette=\"magma\", data=titanic_train, height = 6)\n",
    "plt.title(\"Survived (binary: yes or no)\")\"\"\""
   ]
  },
  {
   "cell_type": "markdown",
   "id": "b2512a9e",
   "metadata": {
    "papermill": {
     "duration": 0.019135,
     "end_time": "2022-07-08T21:13:04.071688",
     "exception": false,
     "start_time": "2022-07-08T21:13:04.052553",
     "status": "completed"
    },
    "tags": []
   },
   "source": [
    "We can see that not everyone died, almost 300 people survived. Thus the classes aren't very imbalanced."
   ]
  },
  {
   "cell_type": "markdown",
   "id": "128dadd1",
   "metadata": {
    "papermill": {
     "duration": 0.019413,
     "end_time": "2022-07-08T21:13:04.111889",
     "exception": false,
     "start_time": "2022-07-08T21:13:04.092476",
     "status": "completed"
    },
    "tags": []
   },
   "source": [
    "We then create a correlation matrix.\n",
    "We can observe interesting correlation like between sex and survival or survival and socio-economic status"
   ]
  },
  {
   "cell_type": "code",
   "execution_count": 21,
   "id": "eab24cd0",
   "metadata": {
    "execution": {
     "iopub.execute_input": "2022-07-08T21:13:04.156998Z",
     "iopub.status.busy": "2022-07-08T21:13:04.155457Z",
     "iopub.status.idle": "2022-07-08T21:13:04.164952Z",
     "shell.execute_reply": "2022-07-08T21:13:04.163878Z"
    },
    "papermill": {
     "duration": 0.035926,
     "end_time": "2022-07-08T21:13:04.167485",
     "exception": false,
     "start_time": "2022-07-08T21:13:04.131559",
     "status": "completed"
    },
    "tags": []
   },
   "outputs": [
    {
     "data": {
      "text/plain": [
       "'### plt.figure(figsize=(25,13))\\nsns.heatmap(titanic_train.corr(),annot=True,cmap=\"coolwarm\")\\nplt.show()'"
      ]
     },
     "execution_count": 21,
     "metadata": {},
     "output_type": "execute_result"
    }
   ],
   "source": [
    "\"\"\"### plt.figure(figsize=(25,13))\n",
    "sns.heatmap(titanic_train.corr(),annot=True,cmap=\"coolwarm\")\n",
    "plt.show()\"\"\""
   ]
  },
  {
   "cell_type": "markdown",
   "id": "3393b384",
   "metadata": {
    "papermill": {
     "duration": 0.019527,
     "end_time": "2022-07-08T21:13:04.207076",
     "exception": false,
     "start_time": "2022-07-08T21:13:04.187549",
     "status": "completed"
    },
    "tags": []
   },
   "source": [
    "# TRAINING\n",
    "\n",
    "First we'll create our train/test split:\n"
   ]
  },
  {
   "cell_type": "code",
   "execution_count": null,
   "id": "44a6c8bc",
   "metadata": {
    "papermill": {
     "duration": 0.019333,
     "end_time": "2022-07-08T21:13:04.246847",
     "exception": false,
     "start_time": "2022-07-08T21:13:04.227514",
     "status": "completed"
    },
    "tags": []
   },
   "outputs": [],
   "source": []
  },
  {
   "cell_type": "code",
   "execution_count": 22,
   "id": "88d8ed12",
   "metadata": {
    "execution": {
     "iopub.execute_input": "2022-07-08T21:13:04.286952Z",
     "iopub.status.busy": "2022-07-08T21:13:04.286532Z",
     "iopub.status.idle": "2022-07-08T21:13:04.292578Z",
     "shell.execute_reply": "2022-07-08T21:13:04.291489Z"
    },
    "papermill": {
     "duration": 0.02891,
     "end_time": "2022-07-08T21:13:04.294978",
     "exception": false,
     "start_time": "2022-07-08T21:13:04.266068",
     "status": "completed"
    },
    "tags": []
   },
   "outputs": [
    {
     "data": {
      "text/plain": [
       "\"test_ratio = 0.30\\nY = titanic_train.Survived\\n\\nX = titanic_train.drop(['Survived', 'PassengerId'], axis = 1)\\nX_train, X_val,  Y_train, Y_val = train_test_split(X, Y, test_size=test_ratio, random_state=0)\\n\""
      ]
     },
     "execution_count": 22,
     "metadata": {},
     "output_type": "execute_result"
    }
   ],
   "source": [
    "\"\"\"test_ratio = 0.30\n",
    "Y = titanic_train.Survived\n",
    "\n",
    "X = titanic_train.drop(['Survived', 'PassengerId'], axis = 1)\n",
    "X_train, X_val,  Y_train, Y_val = train_test_split(X, Y, test_size=test_ratio, random_state=0)\n",
    "\"\"\""
   ]
  },
  {
   "cell_type": "markdown",
   "id": "d73a399d",
   "metadata": {
    "papermill": {
     "duration": 0.020226,
     "end_time": "2022-07-08T21:13:04.335051",
     "exception": false,
     "start_time": "2022-07-08T21:13:04.314825",
     "status": "completed"
    },
    "tags": []
   },
   "source": [
    "# Baseline method\n",
    "\n",
    "We will use a perceptron as a first method of prediction"
   ]
  },
  {
   "cell_type": "code",
   "execution_count": 23,
   "id": "19a1eecd",
   "metadata": {
    "execution": {
     "iopub.execute_input": "2022-07-08T21:13:04.377815Z",
     "iopub.status.busy": "2022-07-08T21:13:04.377185Z",
     "iopub.status.idle": "2022-07-08T21:13:04.384190Z",
     "shell.execute_reply": "2022-07-08T21:13:04.382602Z"
    },
    "papermill": {
     "duration": 0.032803,
     "end_time": "2022-07-08T21:13:04.387925",
     "exception": false,
     "start_time": "2022-07-08T21:13:04.355122",
     "status": "completed"
    },
    "tags": []
   },
   "outputs": [
    {
     "data": {
      "text/plain": [
       "'from sklearn.linear_model import Perceptron\\n\\nmodel = Perceptron(tol=1e-3, random_state=0)\\nmodel.fit(X_train, Y_train)\\ndisplay(X_train)\\nY_train_pred = model.predict(X_train)\\nprint(\"train accuracy \", sklearn.metrics.accuracy_score(Y_train_pred, Y_train))\\n\\nY_val_pred = model.predict(X_val)\\nprint(\"val accuracy\", sklearn.metrics.accuracy_score(Y_val_pred, Y_val))\\n'"
      ]
     },
     "execution_count": 23,
     "metadata": {},
     "output_type": "execute_result"
    }
   ],
   "source": [
    "\"\"\"from sklearn.linear_model import Perceptron\n",
    "\n",
    "model = Perceptron(tol=1e-3, random_state=0)\n",
    "model.fit(X_train, Y_train)\n",
    "display(X_train)\n",
    "Y_train_pred = model.predict(X_train)\n",
    "print(\"train accuracy \", sklearn.metrics.accuracy_score(Y_train_pred, Y_train))\n",
    "\n",
    "Y_val_pred = model.predict(X_val)\n",
    "print(\"val accuracy\", sklearn.metrics.accuracy_score(Y_val_pred, Y_val))\n",
    "\"\"\"\n",
    "\n"
   ]
  },
  {
   "cell_type": "code",
   "execution_count": 24,
   "id": "c514ba58",
   "metadata": {
    "execution": {
     "iopub.execute_input": "2022-07-08T21:13:04.429640Z",
     "iopub.status.busy": "2022-07-08T21:13:04.428923Z",
     "iopub.status.idle": "2022-07-08T21:13:04.436194Z",
     "shell.execute_reply": "2022-07-08T21:13:04.434968Z"
    },
    "papermill": {
     "duration": 0.030738,
     "end_time": "2022-07-08T21:13:04.438663",
     "exception": false,
     "start_time": "2022-07-08T21:13:04.407925",
     "status": "completed"
    },
    "tags": []
   },
   "outputs": [
    {
     "data": {
      "text/plain": [
       "'print(Y_train[:20])\\nprint(Y_train_pred[:20])'"
      ]
     },
     "execution_count": 24,
     "metadata": {},
     "output_type": "execute_result"
    }
   ],
   "source": [
    "\"\"\"print(Y_train[:20])\n",
    "print(Y_train_pred[:20])\"\"\""
   ]
  },
  {
   "cell_type": "code",
   "execution_count": 25,
   "id": "42775ef1",
   "metadata": {
    "execution": {
     "iopub.execute_input": "2022-07-08T21:13:04.483335Z",
     "iopub.status.busy": "2022-07-08T21:13:04.481714Z",
     "iopub.status.idle": "2022-07-08T21:13:04.492315Z",
     "shell.execute_reply": "2022-07-08T21:13:04.491136Z"
    },
    "papermill": {
     "duration": 0.035578,
     "end_time": "2022-07-08T21:13:04.494544",
     "exception": false,
     "start_time": "2022-07-08T21:13:04.458966",
     "status": "completed"
    },
    "tags": []
   },
   "outputs": [
    {
     "data": {
      "text/plain": [
       "\"from sklearn.model_selection import train_test_split\\nfrom sklearn.preprocessing import StandardScaler\\nfrom sklearn.pipeline import make_pipeline\\nfrom sklearn.linear_model import LogisticRegression\\nfrom sklearn.model_selection import learning_curve\\nfrom sklearn import datasets\\nimport matplotlib.pyplot as plt\\n\\n# Create a pipeline; This will be passed as an estimator to learning curve method\\n#\\npipeline = make_pipeline(Perceptron(tol=1e-3, random_state=0))\\n#\\n# Use learning curve to get training and test scores along with train sizes\\n#\\ntrain_sizes, train_scores, test_scores = learning_curve(estimator=pipeline, X=X_train, y=Y_train,\\n                                                       cv=10, train_sizes=np.linspace(0.1, 1.0, 10),\\n                                                     n_jobs=1)\\n#\\n# Calculate training and test mean and std\\n#\\ntrain_mean = np.mean(train_scores, axis=1)\\ntrain_std = np.std(train_scores, axis=1)\\ntest_mean = np.mean(test_scores, axis=1)\\ntest_std = np.std(test_scores, axis=1)\\n#\\n# Plot the learning curve\\n#\\nplt.plot(train_sizes, train_mean, color='blue', marker='o', markersize=5, label='Training Accuracy')\\nplt.fill_between(train_sizes, train_mean + train_std, train_mean - train_std, alpha=0.15, color='blue')\\nplt.plot(train_sizes, test_mean, color='green', marker='+', markersize=5, linestyle='--', label='Validation Accuracy')\\nplt.fill_between(train_sizes, test_mean + test_std, test_mean - test_std, alpha=0.15, color='green')\\nplt.title('Learning Curve')\\nplt.xlabel('Training Data Size')\\nplt.ylabel('Model accuracy')\\nplt.grid()\\nplt.legend(loc='lower right')\\nplt.show()\""
      ]
     },
     "execution_count": 25,
     "metadata": {},
     "output_type": "execute_result"
    }
   ],
   "source": [
    "\"\"\"from sklearn.model_selection import train_test_split\n",
    "from sklearn.preprocessing import StandardScaler\n",
    "from sklearn.pipeline import make_pipeline\n",
    "from sklearn.linear_model import LogisticRegression\n",
    "from sklearn.model_selection import learning_curve\n",
    "from sklearn import datasets\n",
    "import matplotlib.pyplot as plt\n",
    "\n",
    "# Create a pipeline; This will be passed as an estimator to learning curve method\n",
    "#\n",
    "pipeline = make_pipeline(Perceptron(tol=1e-3, random_state=0))\n",
    "#\n",
    "# Use learning curve to get training and test scores along with train sizes\n",
    "#\n",
    "train_sizes, train_scores, test_scores = learning_curve(estimator=pipeline, X=X_train, y=Y_train,\n",
    "                                                       cv=10, train_sizes=np.linspace(0.1, 1.0, 10),\n",
    "                                                     n_jobs=1)\n",
    "#\n",
    "# Calculate training and test mean and std\n",
    "#\n",
    "train_mean = np.mean(train_scores, axis=1)\n",
    "train_std = np.std(train_scores, axis=1)\n",
    "test_mean = np.mean(test_scores, axis=1)\n",
    "test_std = np.std(test_scores, axis=1)\n",
    "#\n",
    "# Plot the learning curve\n",
    "#\n",
    "plt.plot(train_sizes, train_mean, color='blue', marker='o', markersize=5, label='Training Accuracy')\n",
    "plt.fill_between(train_sizes, train_mean + train_std, train_mean - train_std, alpha=0.15, color='blue')\n",
    "plt.plot(train_sizes, test_mean, color='green', marker='+', markersize=5, linestyle='--', label='Validation Accuracy')\n",
    "plt.fill_between(train_sizes, test_mean + test_std, test_mean - test_std, alpha=0.15, color='green')\n",
    "plt.title('Learning Curve')\n",
    "plt.xlabel('Training Data Size')\n",
    "plt.ylabel('Model accuracy')\n",
    "plt.grid()\n",
    "plt.legend(loc='lower right')\n",
    "plt.show()\"\"\""
   ]
  },
  {
   "cell_type": "code",
   "execution_count": 26,
   "id": "ded48c94",
   "metadata": {
    "execution": {
     "iopub.execute_input": "2022-07-08T21:13:04.537830Z",
     "iopub.status.busy": "2022-07-08T21:13:04.536947Z",
     "iopub.status.idle": "2022-07-08T21:13:04.544022Z",
     "shell.execute_reply": "2022-07-08T21:13:04.542880Z"
    },
    "papermill": {
     "duration": 0.031711,
     "end_time": "2022-07-08T21:13:04.547091",
     "exception": false,
     "start_time": "2022-07-08T21:13:04.515380",
     "status": "completed"
    },
    "tags": []
   },
   "outputs": [
    {
     "data": {
      "text/plain": [
       "\"from sklearn.metrics import ConfusionMatrixDisplay\\n\\nConfusionMatrixDisplay.from_predictions(Y_train, Y_train_pred)\\nplt.title('Confusion matrix for training set' )\\nplt.show()\\n\""
      ]
     },
     "execution_count": 26,
     "metadata": {},
     "output_type": "execute_result"
    }
   ],
   "source": [
    "\"\"\"from sklearn.metrics import ConfusionMatrixDisplay\n",
    "\n",
    "ConfusionMatrixDisplay.from_predictions(Y_train, Y_train_pred)\n",
    "plt.title('Confusion matrix for training set' )\n",
    "plt.show()\n",
    "\"\"\""
   ]
  },
  {
   "cell_type": "code",
   "execution_count": 27,
   "id": "e795569a",
   "metadata": {
    "execution": {
     "iopub.execute_input": "2022-07-08T21:13:04.591284Z",
     "iopub.status.busy": "2022-07-08T21:13:04.590577Z",
     "iopub.status.idle": "2022-07-08T21:13:04.597797Z",
     "shell.execute_reply": "2022-07-08T21:13:04.596686Z"
    },
    "papermill": {
     "duration": 0.032468,
     "end_time": "2022-07-08T21:13:04.600024",
     "exception": false,
     "start_time": "2022-07-08T21:13:04.567556",
     "status": "completed"
    },
    "tags": []
   },
   "outputs": [
    {
     "data": {
      "text/plain": [
       "\"\\nConfusionMatrixDisplay.from_predictions(Y_val, Y_val_pred)\\nplt.title('Confusion matrix for validation set' )\\nplt.show()\""
      ]
     },
     "execution_count": 27,
     "metadata": {},
     "output_type": "execute_result"
    }
   ],
   "source": [
    "\"\"\"\n",
    "ConfusionMatrixDisplay.from_predictions(Y_val, Y_val_pred)\n",
    "plt.title('Confusion matrix for validation set' )\n",
    "plt.show()\"\"\""
   ]
  },
  {
   "cell_type": "markdown",
   "id": "64a71a92",
   "metadata": {
    "papermill": {
     "duration": 0.020254,
     "end_time": "2022-07-08T21:13:04.640714",
     "exception": false,
     "start_time": "2022-07-08T21:13:04.620460",
     "status": "completed"
    },
    "tags": []
   },
   "source": [
    "# Result\n",
    "\n",
    "This first strategy yields a 0.69856 score for the test set. We can say that we predicted the right outcome for approximately 70% of the passengers.\n",
    "We'll now try to improve this result."
   ]
  },
  {
   "cell_type": "markdown",
   "id": "f286805c",
   "metadata": {
    "papermill": {
     "duration": 0.021114,
     "end_time": "2022-07-08T21:13:04.681654",
     "exception": false,
     "start_time": "2022-07-08T21:13:04.660540",
     "status": "completed"
    },
    "tags": []
   },
   "source": [
    "# Logistic Regression"
   ]
  },
  {
   "cell_type": "markdown",
   "id": "b7caae99",
   "metadata": {
    "papermill": {
     "duration": 0.020033,
     "end_time": "2022-07-08T21:13:04.722970",
     "exception": false,
     "start_time": "2022-07-08T21:13:04.702937",
     "status": "completed"
    },
    "tags": []
   },
   "source": [
    "Next we can try to use a logistic regression algorithm."
   ]
  },
  {
   "cell_type": "code",
   "execution_count": 28,
   "id": "9fef1317",
   "metadata": {
    "execution": {
     "iopub.execute_input": "2022-07-08T21:13:04.765750Z",
     "iopub.status.busy": "2022-07-08T21:13:04.765114Z",
     "iopub.status.idle": "2022-07-08T21:13:04.771935Z",
     "shell.execute_reply": "2022-07-08T21:13:04.770939Z"
    },
    "papermill": {
     "duration": 0.03047,
     "end_time": "2022-07-08T21:13:04.774127",
     "exception": false,
     "start_time": "2022-07-08T21:13:04.743657",
     "status": "completed"
    },
    "tags": []
   },
   "outputs": [
    {
     "data": {
      "text/plain": [
       "'from sklearn.linear_model import LogisticRegression\\nmodel = LogisticRegression(penalty = \\'none\\', random_state=0)\\nmodel.fit(X_train, Y_train)\\ndisplay(X_train)\\nY_train_pred = model.predict(X_train)\\nprint(\"train accuracy \", sklearn.metrics.accuracy_score(Y_train_pred, Y_train))\\n\\nY_val_pred = model.predict(X_val)\\nprint(\"val accuracy\", sklearn.metrics.accuracy_score(Y_val_pred, Y_val))'"
      ]
     },
     "execution_count": 28,
     "metadata": {},
     "output_type": "execute_result"
    }
   ],
   "source": [
    "\"\"\"from sklearn.linear_model import LogisticRegression\n",
    "model = LogisticRegression(penalty = 'none', random_state=0)\n",
    "model.fit(X_train, Y_train)\n",
    "display(X_train)\n",
    "Y_train_pred = model.predict(X_train)\n",
    "print(\"train accuracy \", sklearn.metrics.accuracy_score(Y_train_pred, Y_train))\n",
    "\n",
    "Y_val_pred = model.predict(X_val)\n",
    "print(\"val accuracy\", sklearn.metrics.accuracy_score(Y_val_pred, Y_val))\"\"\"\n"
   ]
  },
  {
   "cell_type": "code",
   "execution_count": 29,
   "id": "0ae0efaa",
   "metadata": {
    "execution": {
     "iopub.execute_input": "2022-07-08T21:13:04.818168Z",
     "iopub.status.busy": "2022-07-08T21:13:04.817554Z",
     "iopub.status.idle": "2022-07-08T21:13:04.824864Z",
     "shell.execute_reply": "2022-07-08T21:13:04.823585Z"
    },
    "papermill": {
     "duration": 0.031369,
     "end_time": "2022-07-08T21:13:04.827346",
     "exception": false,
     "start_time": "2022-07-08T21:13:04.795977",
     "status": "completed"
    },
    "tags": []
   },
   "outputs": [
    {
     "data": {
      "text/plain": [
       "\"ConfusionMatrixDisplay.from_predictions(Y_train, Y_train_pred)\\nplt.title('Confusion matrix for training set' )\\nplt.show()\\n\""
      ]
     },
     "execution_count": 29,
     "metadata": {},
     "output_type": "execute_result"
    }
   ],
   "source": [
    "\"\"\"ConfusionMatrixDisplay.from_predictions(Y_train, Y_train_pred)\n",
    "plt.title('Confusion matrix for training set' )\n",
    "plt.show()\n",
    "\"\"\""
   ]
  },
  {
   "cell_type": "code",
   "execution_count": 30,
   "id": "b997d21c",
   "metadata": {
    "execution": {
     "iopub.execute_input": "2022-07-08T21:13:04.870649Z",
     "iopub.status.busy": "2022-07-08T21:13:04.870013Z",
     "iopub.status.idle": "2022-07-08T21:13:04.876658Z",
     "shell.execute_reply": "2022-07-08T21:13:04.875632Z"
    },
    "papermill": {
     "duration": 0.030982,
     "end_time": "2022-07-08T21:13:04.878866",
     "exception": false,
     "start_time": "2022-07-08T21:13:04.847884",
     "status": "completed"
    },
    "tags": []
   },
   "outputs": [
    {
     "data": {
      "text/plain": [
       "\"ConfusionMatrixDisplay.from_predictions(Y_val, Y_val_pred)\\nplt.title('Confusion matrix for validation set' )\\nplt.show()\""
      ]
     },
     "execution_count": 30,
     "metadata": {},
     "output_type": "execute_result"
    }
   ],
   "source": [
    "\"\"\"ConfusionMatrixDisplay.from_predictions(Y_val, Y_val_pred)\n",
    "plt.title('Confusion matrix for validation set' )\n",
    "plt.show()\"\"\""
   ]
  },
  {
   "cell_type": "markdown",
   "id": "ec5967d1",
   "metadata": {
    "papermill": {
     "duration": 0.020037,
     "end_time": "2022-07-08T21:13:04.919117",
     "exception": false,
     "start_time": "2022-07-08T21:13:04.899080",
     "status": "completed"
    },
    "tags": []
   },
   "source": [
    "There is an improvement on the accury of our model.We can still improve"
   ]
  },
  {
   "cell_type": "markdown",
   "id": "c57b6882",
   "metadata": {
    "papermill": {
     "duration": 0.019751,
     "end_time": "2022-07-08T21:13:04.959017",
     "exception": false,
     "start_time": "2022-07-08T21:13:04.939266",
     "status": "completed"
    },
    "tags": []
   },
   "source": [
    "# Neural Network"
   ]
  },
  {
   "cell_type": "code",
   "execution_count": 31,
   "id": "d905ae7f",
   "metadata": {
    "execution": {
     "iopub.execute_input": "2022-07-08T21:13:05.003241Z",
     "iopub.status.busy": "2022-07-08T21:13:05.002849Z",
     "iopub.status.idle": "2022-07-08T21:13:05.009963Z",
     "shell.execute_reply": "2022-07-08T21:13:05.008630Z"
    },
    "papermill": {
     "duration": 0.03208,
     "end_time": "2022-07-08T21:13:05.012381",
     "exception": false,
     "start_time": "2022-07-08T21:13:04.980301",
     "status": "completed"
    },
    "tags": []
   },
   "outputs": [
    {
     "data": {
      "text/plain": [
       "'from sklearn.neural_network import MLPClassifier\\n\\nmodel = MLPClassifier(\\nhidden_layer_sizes = (100,2), random_state=0, max_iter=1000)\\nmodel.fit(X_train, Y_train)\\nY_train_pred = model.predict(X_train)\\n\\nY_train_pred = model.predict(X_train)\\nprint(\"train accuracy \", sklearn.metrics.accuracy_score(Y_train_pred, Y_train))\\n\\nY_val_pred = model.predict(X_val)\\nprint(\"val accuracy\", sklearn.metrics.accuracy_score(Y_val_pred, Y_val))'"
      ]
     },
     "execution_count": 31,
     "metadata": {},
     "output_type": "execute_result"
    }
   ],
   "source": [
    "\"\"\"from sklearn.neural_network import MLPClassifier\n",
    "\n",
    "model = MLPClassifier(\n",
    "hidden_layer_sizes = (100,2), random_state=0, max_iter=1000)\n",
    "model.fit(X_train, Y_train)\n",
    "Y_train_pred = model.predict(X_train)\n",
    "\n",
    "Y_train_pred = model.predict(X_train)\n",
    "print(\"train accuracy \", sklearn.metrics.accuracy_score(Y_train_pred, Y_train))\n",
    "\n",
    "Y_val_pred = model.predict(X_val)\n",
    "print(\"val accuracy\", sklearn.metrics.accuracy_score(Y_val_pred, Y_val))\"\"\""
   ]
  },
  {
   "cell_type": "code",
   "execution_count": 32,
   "id": "9bb453fd",
   "metadata": {
    "execution": {
     "iopub.execute_input": "2022-07-08T21:13:05.056767Z",
     "iopub.status.busy": "2022-07-08T21:13:05.055856Z",
     "iopub.status.idle": "2022-07-08T21:13:05.063206Z",
     "shell.execute_reply": "2022-07-08T21:13:05.062316Z"
    },
    "papermill": {
     "duration": 0.032811,
     "end_time": "2022-07-08T21:13:05.065623",
     "exception": false,
     "start_time": "2022-07-08T21:13:05.032812",
     "status": "completed"
    },
    "tags": []
   },
   "outputs": [
    {
     "data": {
      "text/plain": [
       "\"ConfusionMatrixDisplay.from_predictions(Y_train, Y_train_pred)\\nplt.title('Confusion matrix for training set' )\\nplt.show()\\n\""
      ]
     },
     "execution_count": 32,
     "metadata": {},
     "output_type": "execute_result"
    }
   ],
   "source": [
    "\"\"\"ConfusionMatrixDisplay.from_predictions(Y_train, Y_train_pred)\n",
    "plt.title('Confusion matrix for training set' )\n",
    "plt.show()\n",
    "\"\"\""
   ]
  },
  {
   "cell_type": "code",
   "execution_count": 33,
   "id": "0a8dbb27",
   "metadata": {
    "execution": {
     "iopub.execute_input": "2022-07-08T21:13:05.111405Z",
     "iopub.status.busy": "2022-07-08T21:13:05.110936Z",
     "iopub.status.idle": "2022-07-08T21:13:05.117150Z",
     "shell.execute_reply": "2022-07-08T21:13:05.116323Z"
    },
    "papermill": {
     "duration": 0.03151,
     "end_time": "2022-07-08T21:13:05.119455",
     "exception": false,
     "start_time": "2022-07-08T21:13:05.087945",
     "status": "completed"
    },
    "tags": []
   },
   "outputs": [
    {
     "data": {
      "text/plain": [
       "\"ConfusionMatrixDisplay.from_predictions(Y_val, Y_val_pred)\\nplt.title('Confusion matrix for validation set' )\\nplt.show()\""
      ]
     },
     "execution_count": 33,
     "metadata": {},
     "output_type": "execute_result"
    }
   ],
   "source": [
    "\"\"\"ConfusionMatrixDisplay.from_predictions(Y_val, Y_val_pred)\n",
    "plt.title('Confusion matrix for validation set' )\n",
    "plt.show()\"\"\""
   ]
  },
  {
   "cell_type": "code",
   "execution_count": 34,
   "id": "43dcc8fb",
   "metadata": {
    "execution": {
     "iopub.execute_input": "2022-07-08T21:13:05.166074Z",
     "iopub.status.busy": "2022-07-08T21:13:05.165663Z",
     "iopub.status.idle": "2022-07-08T21:13:05.172095Z",
     "shell.execute_reply": "2022-07-08T21:13:05.171254Z"
    },
    "papermill": {
     "duration": 0.032615,
     "end_time": "2022-07-08T21:13:05.174612",
     "exception": false,
     "start_time": "2022-07-08T21:13:05.141997",
     "status": "completed"
    },
    "tags": []
   },
   "outputs": [
    {
     "data": {
      "text/plain": [
       "\"submission = titanic_test.copy()\\ndisplay(titanic_test)\\nX_test = submission.drop('PassengerId', axis= 1)\\ndisplay(X_test)\\nY_test_pred = model.predict(X_test)\\ndisplay(X_test)\\nsubmission['Survived'] = Y_test_pred\\nsubmission.drop(submission.iloc[:, 1:-1], inplace=True, axis=1)\\nsubmission = submission.set_index('PassengerId')\""
      ]
     },
     "execution_count": 34,
     "metadata": {},
     "output_type": "execute_result"
    }
   ],
   "source": [
    "\"\"\"submission = titanic_test.copy()\n",
    "display(titanic_test)\n",
    "X_test = submission.drop('PassengerId', axis= 1)\n",
    "display(X_test)\n",
    "Y_test_pred = model.predict(X_test)\n",
    "display(X_test)\n",
    "submission['Survived'] = Y_test_pred\n",
    "submission.drop(submission.iloc[:, 1:-1], inplace=True, axis=1)\n",
    "submission = submission.set_index('PassengerId')\"\"\""
   ]
  },
  {
   "cell_type": "markdown",
   "id": "f6346cda",
   "metadata": {
    "papermill": {
     "duration": 0.020781,
     "end_time": "2022-07-08T21:13:05.216527",
     "exception": false,
     "start_time": "2022-07-08T21:13:05.195746",
     "status": "completed"
    },
    "tags": []
   },
   "source": [
    "# Random Forest"
   ]
  },
  {
   "cell_type": "code",
   "execution_count": 35,
   "id": "068abf27",
   "metadata": {
    "execution": {
     "iopub.execute_input": "2022-07-08T21:13:05.263067Z",
     "iopub.status.busy": "2022-07-08T21:13:05.262172Z",
     "iopub.status.idle": "2022-07-08T21:13:05.269999Z",
     "shell.execute_reply": "2022-07-08T21:13:05.268863Z"
    },
    "papermill": {
     "duration": 0.034185,
     "end_time": "2022-07-08T21:13:05.272644",
     "exception": false,
     "start_time": "2022-07-08T21:13:05.238459",
     "status": "completed"
    },
    "tags": []
   },
   "outputs": [
    {
     "data": {
      "text/plain": [
       "'from sklearn.ensemble import GradientBoostingClassifier\\n\\nmodel = GradientBoostingClassifier(n_estimators=1000, max_depth=4)\\nmodel.fit(X_train, Y_train)\\nY_train_pred = model.predict(X_train)\\n\\nY_train_pred = model.predict(X_train)\\nprint(\"train accuracy \", sklearn.metrics.accuracy_score(Y_train_pred, Y_train))\\n\\nY_val_pred = model.predict(X_val)\\nprint(\"val accuracy\", sklearn.metrics.accuracy_score(Y_val_pred, Y_val))'"
      ]
     },
     "execution_count": 35,
     "metadata": {},
     "output_type": "execute_result"
    }
   ],
   "source": [
    "\"\"\"from sklearn.ensemble import GradientBoostingClassifier\n",
    "\n",
    "model = GradientBoostingClassifier(n_estimators=1000, max_depth=4)\n",
    "model.fit(X_train, Y_train)\n",
    "Y_train_pred = model.predict(X_train)\n",
    "\n",
    "Y_train_pred = model.predict(X_train)\n",
    "print(\"train accuracy \", sklearn.metrics.accuracy_score(Y_train_pred, Y_train))\n",
    "\n",
    "Y_val_pred = model.predict(X_val)\n",
    "print(\"val accuracy\", sklearn.metrics.accuracy_score(Y_val_pred, Y_val))\"\"\""
   ]
  },
  {
   "cell_type": "code",
   "execution_count": 36,
   "id": "aa1fb339",
   "metadata": {
    "execution": {
     "iopub.execute_input": "2022-07-08T21:13:05.319347Z",
     "iopub.status.busy": "2022-07-08T21:13:05.318520Z",
     "iopub.status.idle": "2022-07-08T21:13:05.325798Z",
     "shell.execute_reply": "2022-07-08T21:13:05.324604Z"
    },
    "papermill": {
     "duration": 0.033412,
     "end_time": "2022-07-08T21:13:05.328438",
     "exception": false,
     "start_time": "2022-07-08T21:13:05.295026",
     "status": "completed"
    },
    "tags": []
   },
   "outputs": [
    {
     "data": {
      "text/plain": [
       "\"ConfusionMatrixDisplay.from_predictions(Y_train, Y_train_pred)\\nplt.title('Confusion matrix for training set' )\\nplt.show()\\n\""
      ]
     },
     "execution_count": 36,
     "metadata": {},
     "output_type": "execute_result"
    }
   ],
   "source": [
    "\"\"\"ConfusionMatrixDisplay.from_predictions(Y_train, Y_train_pred)\n",
    "plt.title('Confusion matrix for training set' )\n",
    "plt.show()\n",
    "\"\"\""
   ]
  },
  {
   "cell_type": "code",
   "execution_count": 37,
   "id": "ce4763af",
   "metadata": {
    "execution": {
     "iopub.execute_input": "2022-07-08T21:13:05.373297Z",
     "iopub.status.busy": "2022-07-08T21:13:05.372505Z",
     "iopub.status.idle": "2022-07-08T21:13:05.379452Z",
     "shell.execute_reply": "2022-07-08T21:13:05.378504Z"
    },
    "papermill": {
     "duration": 0.031885,
     "end_time": "2022-07-08T21:13:05.381748",
     "exception": false,
     "start_time": "2022-07-08T21:13:05.349863",
     "status": "completed"
    },
    "tags": []
   },
   "outputs": [
    {
     "data": {
      "text/plain": [
       "\"ConfusionMatrixDisplay.from_predictions(Y_val, Y_val_pred)\\nplt.title('Confusion matrix for validation set' )\\nplt.show()\""
      ]
     },
     "execution_count": 37,
     "metadata": {},
     "output_type": "execute_result"
    }
   ],
   "source": [
    "\"\"\"ConfusionMatrixDisplay.from_predictions(Y_val, Y_val_pred)\n",
    "plt.title('Confusion matrix for validation set' )\n",
    "plt.show()\"\"\""
   ]
  },
  {
   "cell_type": "code",
   "execution_count": null,
   "id": "a78319e1",
   "metadata": {
    "papermill": {
     "duration": 0.021146,
     "end_time": "2022-07-08T21:13:05.424430",
     "exception": false,
     "start_time": "2022-07-08T21:13:05.403284",
     "status": "completed"
    },
    "tags": []
   },
   "outputs": [],
   "source": []
  },
  {
   "cell_type": "code",
   "execution_count": null,
   "id": "a25e8a41",
   "metadata": {
    "papermill": {
     "duration": 0.021959,
     "end_time": "2022-07-08T21:13:05.471304",
     "exception": false,
     "start_time": "2022-07-08T21:13:05.449345",
     "status": "completed"
    },
    "tags": []
   },
   "outputs": [],
   "source": []
  },
  {
   "cell_type": "code",
   "execution_count": null,
   "id": "91be9572",
   "metadata": {
    "papermill": {
     "duration": 0.022428,
     "end_time": "2022-07-08T21:13:05.516339",
     "exception": false,
     "start_time": "2022-07-08T21:13:05.493911",
     "status": "completed"
    },
    "tags": []
   },
   "outputs": [],
   "source": []
  }
 ],
 "metadata": {
  "kernelspec": {
   "display_name": "Python 3",
   "language": "python",
   "name": "python3"
  },
  "language_info": {
   "codemirror_mode": {
    "name": "ipython",
    "version": 3
   },
   "file_extension": ".py",
   "mimetype": "text/x-python",
   "name": "python",
   "nbconvert_exporter": "python",
   "pygments_lexer": "ipython3",
   "version": "3.7.12"
  },
  "papermill": {
   "default_parameters": {},
   "duration": 19.84409,
   "end_time": "2022-07-08T21:13:06.361262",
   "environment_variables": {},
   "exception": null,
   "input_path": "__notebook__.ipynb",
   "output_path": "__notebook__.ipynb",
   "parameters": {},
   "start_time": "2022-07-08T21:12:46.517172",
   "version": "2.3.4"
  }
 },
 "nbformat": 4,
 "nbformat_minor": 5
}
